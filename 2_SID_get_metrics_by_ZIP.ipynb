{
 "cells": [
  {
   "cell_type": "code",
   "execution_count": 2,
   "metadata": {},
   "outputs": [],
   "source": [
    "import pandas as pd\n",
    "import numpy as np\n",
    "import os\n",
    "import json\n"
   ]
  },
  {
   "cell_type": "markdown",
   "metadata": {},
   "source": [
    "## Get Data"
   ]
  },
  {
   "cell_type": "code",
   "execution_count": 108,
   "metadata": {},
   "outputs": [
    {
     "name": "stderr",
     "output_type": "stream",
     "text": [
      "C:\\Users\\SMaharana\\AppData\\Roaming\\Python\\Python37\\site-packages\\IPython\\core\\interactiveshell.py:3049: DtypeWarning: Columns (9) have mixed types. Specify dtype option on import or set low_memory=False.\n",
      "  interactivity=interactivity, compiler=compiler, result=result)\n"
     ]
    }
   ],
   "source": [
    "e_df = pd.read_csv('data/ev_data.csv')\n",
    "z_df = pd.read_csv('data/uszipcode_data.csv/uszipcode_data.csv')"
   ]
  },
  {
   "cell_type": "code",
   "execution_count": 109,
   "metadata": {},
   "outputs": [
    {
     "data": {
      "text/plain": [
       "(99878, 14)"
      ]
     },
     "execution_count": 109,
     "metadata": {},
     "output_type": "execute_result"
    }
   ],
   "source": [
    "e_df.shape\n"
   ]
  },
  {
   "cell_type": "code",
   "execution_count": 110,
   "metadata": {},
   "outputs": [
    {
     "data": {
      "text/html": [
       "<div>\n",
       "<style scoped>\n",
       "    .dataframe tbody tr th:only-of-type {\n",
       "        vertical-align: middle;\n",
       "    }\n",
       "\n",
       "    .dataframe tbody tr th {\n",
       "        vertical-align: top;\n",
       "    }\n",
       "\n",
       "    .dataframe thead th {\n",
       "        text-align: right;\n",
       "    }\n",
       "</style>\n",
       "<table border=\"1\" class=\"dataframe\">\n",
       "  <thead>\n",
       "    <tr style=\"text-align: right;\">\n",
       "      <th></th>\n",
       "      <th>Unnamed: 0</th>\n",
       "      <th>County</th>\n",
       "      <th>County GEOID</th>\n",
       "      <th>DMV ID</th>\n",
       "      <th>Registration Expiration Date</th>\n",
       "      <th>Registration Valid Date</th>\n",
       "      <th>VIN Model Year</th>\n",
       "      <th>VIN Prefix</th>\n",
       "      <th>Vehicle Name</th>\n",
       "      <th>ZIP Code</th>\n",
       "      <th>file_name</th>\n",
       "      <th>state</th>\n",
       "      <th>Exp_year</th>\n",
       "      <th>Valid_year</th>\n",
       "    </tr>\n",
       "  </thead>\n",
       "  <tbody>\n",
       "    <tr>\n",
       "      <th>0</th>\n",
       "      <td>14763</td>\n",
       "      <td>NaN</td>\n",
       "      <td>NaN</td>\n",
       "      <td>1</td>\n",
       "      <td>2019-12-31</td>\n",
       "      <td>2018-12-31</td>\n",
       "      <td>J</td>\n",
       "      <td>5YJSA1E2</td>\n",
       "      <td>NaN</td>\n",
       "      <td>80138.0</td>\n",
       "      <td>co_ev_registrations_public.xlsx</td>\n",
       "      <td>co</td>\n",
       "      <td>2019.0</td>\n",
       "      <td>2018.0</td>\n",
       "    </tr>\n",
       "    <tr>\n",
       "      <th>1</th>\n",
       "      <td>14764</td>\n",
       "      <td>NaN</td>\n",
       "      <td>NaN</td>\n",
       "      <td>1</td>\n",
       "      <td>2019-12-31</td>\n",
       "      <td>2018-12-31</td>\n",
       "      <td>J</td>\n",
       "      <td>5YJXCAE2</td>\n",
       "      <td>NaN</td>\n",
       "      <td>81620.0</td>\n",
       "      <td>co_ev_registrations_public.xlsx</td>\n",
       "      <td>co</td>\n",
       "      <td>2019.0</td>\n",
       "      <td>2018.0</td>\n",
       "    </tr>\n",
       "    <tr>\n",
       "      <th>2</th>\n",
       "      <td>14765</td>\n",
       "      <td>NaN</td>\n",
       "      <td>NaN</td>\n",
       "      <td>1</td>\n",
       "      <td>2019-12-31</td>\n",
       "      <td>2018-12-31</td>\n",
       "      <td>C</td>\n",
       "      <td>1G1RD6E4</td>\n",
       "      <td>NaN</td>\n",
       "      <td>80538.0</td>\n",
       "      <td>co_ev_registrations_public.xlsx</td>\n",
       "      <td>co</td>\n",
       "      <td>2019.0</td>\n",
       "      <td>2018.0</td>\n",
       "    </tr>\n",
       "    <tr>\n",
       "      <th>3</th>\n",
       "      <td>14766</td>\n",
       "      <td>NaN</td>\n",
       "      <td>NaN</td>\n",
       "      <td>1</td>\n",
       "      <td>2019-11-30</td>\n",
       "      <td>2018-12-31</td>\n",
       "      <td>G</td>\n",
       "      <td>WBY2Z2C5</td>\n",
       "      <td>NaN</td>\n",
       "      <td>80915.0</td>\n",
       "      <td>co_ev_registrations_public.xlsx</td>\n",
       "      <td>co</td>\n",
       "      <td>2019.0</td>\n",
       "      <td>2018.0</td>\n",
       "    </tr>\n",
       "    <tr>\n",
       "      <th>4</th>\n",
       "      <td>14767</td>\n",
       "      <td>NaN</td>\n",
       "      <td>NaN</td>\n",
       "      <td>1</td>\n",
       "      <td>2019-12-31</td>\n",
       "      <td>2018-12-31</td>\n",
       "      <td>F</td>\n",
       "      <td>5YJSA1S2</td>\n",
       "      <td>NaN</td>\n",
       "      <td>80228.0</td>\n",
       "      <td>co_ev_registrations_public.xlsx</td>\n",
       "      <td>co</td>\n",
       "      <td>2019.0</td>\n",
       "      <td>2018.0</td>\n",
       "    </tr>\n",
       "  </tbody>\n",
       "</table>\n",
       "</div>"
      ],
      "text/plain": [
       "   Unnamed: 0  County  County GEOID  DMV ID Registration Expiration Date  \\\n",
       "0       14763     NaN           NaN       1                   2019-12-31   \n",
       "1       14764     NaN           NaN       1                   2019-12-31   \n",
       "2       14765     NaN           NaN       1                   2019-12-31   \n",
       "3       14766     NaN           NaN       1                   2019-11-30   \n",
       "4       14767     NaN           NaN       1                   2019-12-31   \n",
       "\n",
       "  Registration Valid Date VIN Model Year VIN Prefix  Vehicle Name ZIP Code  \\\n",
       "0              2018-12-31              J   5YJSA1E2           NaN  80138.0   \n",
       "1              2018-12-31              J   5YJXCAE2           NaN  81620.0   \n",
       "2              2018-12-31              C   1G1RD6E4           NaN  80538.0   \n",
       "3              2018-12-31              G   WBY2Z2C5           NaN  80915.0   \n",
       "4              2018-12-31              F   5YJSA1S2           NaN  80228.0   \n",
       "\n",
       "                         file_name state  Exp_year  Valid_year  \n",
       "0  co_ev_registrations_public.xlsx    co    2019.0      2018.0  \n",
       "1  co_ev_registrations_public.xlsx    co    2019.0      2018.0  \n",
       "2  co_ev_registrations_public.xlsx    co    2019.0      2018.0  \n",
       "3  co_ev_registrations_public.xlsx    co    2019.0      2018.0  \n",
       "4  co_ev_registrations_public.xlsx    co    2019.0      2018.0  "
      ]
     },
     "execution_count": 110,
     "metadata": {},
     "output_type": "execute_result"
    }
   ],
   "source": [
    "e_df.head()"
   ]
  },
  {
   "cell_type": "code",
   "execution_count": 111,
   "metadata": {},
   "outputs": [
    {
     "data": {
      "text/plain": [
       "Index(['Unnamed: 0', 'zipcode_type', 'major_city', 'post_office_city',\n",
       "       'common_city_list', 'county', 'state', 'lat', 'lng', 'timezone',\n",
       "       'radius_in_miles', 'area_code_list', 'population', 'population_density',\n",
       "       'land_area_in_sqmi', 'water_area_in_sqmi', 'housing_units',\n",
       "       'occupied_housing_units', 'median_home_value',\n",
       "       'median_household_income', 'zipcode', 'population_by_year',\n",
       "       'population_by_age', 'population_by_gender', 'population_by_race',\n",
       "       'head_of_household_by_age', 'families_vs_singles',\n",
       "       'households_with_kids', 'children_by_age', 'housing_type',\n",
       "       'year_housing_was_built', 'housing_occupancy', 'vancancy_reason',\n",
       "       'owner_occupied_home_values', 'rental_properties_by_number_of_rooms',\n",
       "       'monthly_rent_including_utilities_studio_apt',\n",
       "       'monthly_rent_including_utilities_1_b',\n",
       "       'monthly_rent_including_utilities_2_b',\n",
       "       'monthly_rent_including_utilities_3plus_b', 'employment_status',\n",
       "       'average_household_income_over_time', 'household_income',\n",
       "       'annual_individual_earnings',\n",
       "       'sources_of_household_income____percent_of_households_receiving_income',\n",
       "       'sources_of_household_income____average_income_per_household_by_income_source',\n",
       "       'household_investment_income____percent_of_households_receiving_investment_income',\n",
       "       'household_investment_income____average_income_per_household_by_income_source',\n",
       "       'household_retirement_income____percent_of_households_receiving_retirement_incom',\n",
       "       'household_retirement_income____average_income_per_household_by_income_source',\n",
       "       'source_of_earnings',\n",
       "       'means_of_transportation_to_work_for_workers_16_and_over',\n",
       "       'travel_time_to_work_in_minutes',\n",
       "       'educational_attainment_for_population_25_and_over',\n",
       "       'school_enrollment_age_3_to_17'],\n",
       "      dtype='object')"
      ]
     },
     "execution_count": 111,
     "metadata": {},
     "output_type": "execute_result"
    }
   ],
   "source": [
    "z_df.columns"
   ]
  },
  {
   "cell_type": "markdown",
   "metadata": {},
   "source": [
    "## Adding Features and target variables"
   ]
  },
  {
   "cell_type": "markdown",
   "metadata": {},
   "source": [
    "### reg_count\n",
    "Count of registrations per zip code"
   ]
  },
  {
   "cell_type": "code",
   "execution_count": 112,
   "metadata": {},
   "outputs": [],
   "source": [
    "import seaborn as sns\n",
    "import matplotlib.pyplot as plt\n",
    "%matplotlib inline  "
   ]
  },
  {
   "cell_type": "code",
   "execution_count": 113,
   "metadata": {},
   "outputs": [],
   "source": [
    "temp_df = pd.DataFrame({'reg_count' : e_df.groupby(['ZIP Code']).size()}).reset_index()"
   ]
  },
  {
   "cell_type": "code",
   "execution_count": 114,
   "metadata": {},
   "outputs": [
    {
     "ename": "ValueError",
     "evalue": "invalid literal for int() with base 10: '0.0'",
     "output_type": "error",
     "traceback": [
      "\u001b[1;31m---------------------------------------------------------------------------\u001b[0m",
      "\u001b[1;31mValueError\u001b[0m                                Traceback (most recent call last)",
      "\u001b[1;32m<ipython-input-114-3d5314b5d1b6>\u001b[0m in \u001b[0;36m<module>\u001b[1;34m\u001b[0m\n\u001b[1;32m----> 1\u001b[1;33m \u001b[0mtemp_df\u001b[0m\u001b[1;33m[\u001b[0m\u001b[1;34m'ZIP Code'\u001b[0m\u001b[1;33m]\u001b[0m \u001b[1;33m=\u001b[0m \u001b[0mtemp_df\u001b[0m\u001b[1;33m[\u001b[0m\u001b[1;34m'ZIP Code'\u001b[0m\u001b[1;33m]\u001b[0m\u001b[1;33m.\u001b[0m\u001b[0mastype\u001b[0m\u001b[1;33m(\u001b[0m\u001b[0mint\u001b[0m\u001b[1;33m)\u001b[0m\u001b[1;33m\u001b[0m\u001b[1;33m\u001b[0m\u001b[0m\n\u001b[0m",
      "\u001b[1;32m~\\AppData\\Roaming\\Python\\Python37\\site-packages\\pandas\\core\\generic.py\u001b[0m in \u001b[0;36mastype\u001b[1;34m(self, dtype, copy, errors, **kwargs)\u001b[0m\n\u001b[0;32m   5689\u001b[0m             \u001b[1;31m# else, only a single dtype is given\u001b[0m\u001b[1;33m\u001b[0m\u001b[1;33m\u001b[0m\u001b[1;33m\u001b[0m\u001b[0m\n\u001b[0;32m   5690\u001b[0m             new_data = self._data.astype(dtype=dtype, copy=copy, errors=errors,\n\u001b[1;32m-> 5691\u001b[1;33m                                          **kwargs)\n\u001b[0m\u001b[0;32m   5692\u001b[0m             \u001b[1;32mreturn\u001b[0m \u001b[0mself\u001b[0m\u001b[1;33m.\u001b[0m\u001b[0m_constructor\u001b[0m\u001b[1;33m(\u001b[0m\u001b[0mnew_data\u001b[0m\u001b[1;33m)\u001b[0m\u001b[1;33m.\u001b[0m\u001b[0m__finalize__\u001b[0m\u001b[1;33m(\u001b[0m\u001b[0mself\u001b[0m\u001b[1;33m)\u001b[0m\u001b[1;33m\u001b[0m\u001b[1;33m\u001b[0m\u001b[0m\n\u001b[0;32m   5693\u001b[0m \u001b[1;33m\u001b[0m\u001b[0m\n",
      "\u001b[1;32m~\\AppData\\Roaming\\Python\\Python37\\site-packages\\pandas\\core\\internals\\managers.py\u001b[0m in \u001b[0;36mastype\u001b[1;34m(self, dtype, **kwargs)\u001b[0m\n\u001b[0;32m    529\u001b[0m \u001b[1;33m\u001b[0m\u001b[0m\n\u001b[0;32m    530\u001b[0m     \u001b[1;32mdef\u001b[0m \u001b[0mastype\u001b[0m\u001b[1;33m(\u001b[0m\u001b[0mself\u001b[0m\u001b[1;33m,\u001b[0m \u001b[0mdtype\u001b[0m\u001b[1;33m,\u001b[0m \u001b[1;33m**\u001b[0m\u001b[0mkwargs\u001b[0m\u001b[1;33m)\u001b[0m\u001b[1;33m:\u001b[0m\u001b[1;33m\u001b[0m\u001b[1;33m\u001b[0m\u001b[0m\n\u001b[1;32m--> 531\u001b[1;33m         \u001b[1;32mreturn\u001b[0m \u001b[0mself\u001b[0m\u001b[1;33m.\u001b[0m\u001b[0mapply\u001b[0m\u001b[1;33m(\u001b[0m\u001b[1;34m'astype'\u001b[0m\u001b[1;33m,\u001b[0m \u001b[0mdtype\u001b[0m\u001b[1;33m=\u001b[0m\u001b[0mdtype\u001b[0m\u001b[1;33m,\u001b[0m \u001b[1;33m**\u001b[0m\u001b[0mkwargs\u001b[0m\u001b[1;33m)\u001b[0m\u001b[1;33m\u001b[0m\u001b[1;33m\u001b[0m\u001b[0m\n\u001b[0m\u001b[0;32m    532\u001b[0m \u001b[1;33m\u001b[0m\u001b[0m\n\u001b[0;32m    533\u001b[0m     \u001b[1;32mdef\u001b[0m \u001b[0mconvert\u001b[0m\u001b[1;33m(\u001b[0m\u001b[0mself\u001b[0m\u001b[1;33m,\u001b[0m \u001b[1;33m**\u001b[0m\u001b[0mkwargs\u001b[0m\u001b[1;33m)\u001b[0m\u001b[1;33m:\u001b[0m\u001b[1;33m\u001b[0m\u001b[1;33m\u001b[0m\u001b[0m\n",
      "\u001b[1;32m~\\AppData\\Roaming\\Python\\Python37\\site-packages\\pandas\\core\\internals\\managers.py\u001b[0m in \u001b[0;36mapply\u001b[1;34m(self, f, axes, filter, do_integrity_check, consolidate, **kwargs)\u001b[0m\n\u001b[0;32m    393\u001b[0m                                             copy=align_copy)\n\u001b[0;32m    394\u001b[0m \u001b[1;33m\u001b[0m\u001b[0m\n\u001b[1;32m--> 395\u001b[1;33m             \u001b[0mapplied\u001b[0m \u001b[1;33m=\u001b[0m \u001b[0mgetattr\u001b[0m\u001b[1;33m(\u001b[0m\u001b[0mb\u001b[0m\u001b[1;33m,\u001b[0m \u001b[0mf\u001b[0m\u001b[1;33m)\u001b[0m\u001b[1;33m(\u001b[0m\u001b[1;33m**\u001b[0m\u001b[0mkwargs\u001b[0m\u001b[1;33m)\u001b[0m\u001b[1;33m\u001b[0m\u001b[1;33m\u001b[0m\u001b[0m\n\u001b[0m\u001b[0;32m    396\u001b[0m             \u001b[0mresult_blocks\u001b[0m \u001b[1;33m=\u001b[0m \u001b[0m_extend_blocks\u001b[0m\u001b[1;33m(\u001b[0m\u001b[0mapplied\u001b[0m\u001b[1;33m,\u001b[0m \u001b[0mresult_blocks\u001b[0m\u001b[1;33m)\u001b[0m\u001b[1;33m\u001b[0m\u001b[1;33m\u001b[0m\u001b[0m\n\u001b[0;32m    397\u001b[0m \u001b[1;33m\u001b[0m\u001b[0m\n",
      "\u001b[1;32m~\\AppData\\Roaming\\Python\\Python37\\site-packages\\pandas\\core\\internals\\blocks.py\u001b[0m in \u001b[0;36mastype\u001b[1;34m(self, dtype, copy, errors, values, **kwargs)\u001b[0m\n\u001b[0;32m    532\u001b[0m     \u001b[1;32mdef\u001b[0m \u001b[0mastype\u001b[0m\u001b[1;33m(\u001b[0m\u001b[0mself\u001b[0m\u001b[1;33m,\u001b[0m \u001b[0mdtype\u001b[0m\u001b[1;33m,\u001b[0m \u001b[0mcopy\u001b[0m\u001b[1;33m=\u001b[0m\u001b[1;32mFalse\u001b[0m\u001b[1;33m,\u001b[0m \u001b[0merrors\u001b[0m\u001b[1;33m=\u001b[0m\u001b[1;34m'raise'\u001b[0m\u001b[1;33m,\u001b[0m \u001b[0mvalues\u001b[0m\u001b[1;33m=\u001b[0m\u001b[1;32mNone\u001b[0m\u001b[1;33m,\u001b[0m \u001b[1;33m**\u001b[0m\u001b[0mkwargs\u001b[0m\u001b[1;33m)\u001b[0m\u001b[1;33m:\u001b[0m\u001b[1;33m\u001b[0m\u001b[1;33m\u001b[0m\u001b[0m\n\u001b[0;32m    533\u001b[0m         return self._astype(dtype, copy=copy, errors=errors, values=values,\n\u001b[1;32m--> 534\u001b[1;33m                             **kwargs)\n\u001b[0m\u001b[0;32m    535\u001b[0m \u001b[1;33m\u001b[0m\u001b[0m\n\u001b[0;32m    536\u001b[0m     def _astype(self, dtype, copy=False, errors='raise', values=None,\n",
      "\u001b[1;32m~\\AppData\\Roaming\\Python\\Python37\\site-packages\\pandas\\core\\internals\\blocks.py\u001b[0m in \u001b[0;36m_astype\u001b[1;34m(self, dtype, copy, errors, values, **kwargs)\u001b[0m\n\u001b[0;32m    631\u001b[0m \u001b[1;33m\u001b[0m\u001b[0m\n\u001b[0;32m    632\u001b[0m                     \u001b[1;31m# _astype_nansafe works fine with 1-d only\u001b[0m\u001b[1;33m\u001b[0m\u001b[1;33m\u001b[0m\u001b[1;33m\u001b[0m\u001b[0m\n\u001b[1;32m--> 633\u001b[1;33m                     \u001b[0mvalues\u001b[0m \u001b[1;33m=\u001b[0m \u001b[0mastype_nansafe\u001b[0m\u001b[1;33m(\u001b[0m\u001b[0mvalues\u001b[0m\u001b[1;33m.\u001b[0m\u001b[0mravel\u001b[0m\u001b[1;33m(\u001b[0m\u001b[1;33m)\u001b[0m\u001b[1;33m,\u001b[0m \u001b[0mdtype\u001b[0m\u001b[1;33m,\u001b[0m \u001b[0mcopy\u001b[0m\u001b[1;33m=\u001b[0m\u001b[1;32mTrue\u001b[0m\u001b[1;33m)\u001b[0m\u001b[1;33m\u001b[0m\u001b[1;33m\u001b[0m\u001b[0m\n\u001b[0m\u001b[0;32m    634\u001b[0m \u001b[1;33m\u001b[0m\u001b[0m\n\u001b[0;32m    635\u001b[0m                 \u001b[1;31m# TODO(extension)\u001b[0m\u001b[1;33m\u001b[0m\u001b[1;33m\u001b[0m\u001b[1;33m\u001b[0m\u001b[0m\n",
      "\u001b[1;32m~\\AppData\\Roaming\\Python\\Python37\\site-packages\\pandas\\core\\dtypes\\cast.py\u001b[0m in \u001b[0;36mastype_nansafe\u001b[1;34m(arr, dtype, copy, skipna)\u001b[0m\n\u001b[0;32m    681\u001b[0m         \u001b[1;31m# work around NumPy brokenness, #1987\u001b[0m\u001b[1;33m\u001b[0m\u001b[1;33m\u001b[0m\u001b[1;33m\u001b[0m\u001b[0m\n\u001b[0;32m    682\u001b[0m         \u001b[1;32mif\u001b[0m \u001b[0mnp\u001b[0m\u001b[1;33m.\u001b[0m\u001b[0missubdtype\u001b[0m\u001b[1;33m(\u001b[0m\u001b[0mdtype\u001b[0m\u001b[1;33m.\u001b[0m\u001b[0mtype\u001b[0m\u001b[1;33m,\u001b[0m \u001b[0mnp\u001b[0m\u001b[1;33m.\u001b[0m\u001b[0minteger\u001b[0m\u001b[1;33m)\u001b[0m\u001b[1;33m:\u001b[0m\u001b[1;33m\u001b[0m\u001b[1;33m\u001b[0m\u001b[0m\n\u001b[1;32m--> 683\u001b[1;33m             \u001b[1;32mreturn\u001b[0m \u001b[0mlib\u001b[0m\u001b[1;33m.\u001b[0m\u001b[0mastype_intsafe\u001b[0m\u001b[1;33m(\u001b[0m\u001b[0marr\u001b[0m\u001b[1;33m.\u001b[0m\u001b[0mravel\u001b[0m\u001b[1;33m(\u001b[0m\u001b[1;33m)\u001b[0m\u001b[1;33m,\u001b[0m \u001b[0mdtype\u001b[0m\u001b[1;33m)\u001b[0m\u001b[1;33m.\u001b[0m\u001b[0mreshape\u001b[0m\u001b[1;33m(\u001b[0m\u001b[0marr\u001b[0m\u001b[1;33m.\u001b[0m\u001b[0mshape\u001b[0m\u001b[1;33m)\u001b[0m\u001b[1;33m\u001b[0m\u001b[1;33m\u001b[0m\u001b[0m\n\u001b[0m\u001b[0;32m    684\u001b[0m \u001b[1;33m\u001b[0m\u001b[0m\n\u001b[0;32m    685\u001b[0m         \u001b[1;31m# if we have a datetime/timedelta array of objects\u001b[0m\u001b[1;33m\u001b[0m\u001b[1;33m\u001b[0m\u001b[1;33m\u001b[0m\u001b[0m\n",
      "\u001b[1;32mpandas\\_libs\\lib.pyx\u001b[0m in \u001b[0;36mpandas._libs.lib.astype_intsafe\u001b[1;34m()\u001b[0m\n",
      "\u001b[1;31mValueError\u001b[0m: invalid literal for int() with base 10: '0.0'"
     ]
    }
   ],
   "source": [
    "temp_df['ZIP Code'] = temp_df['ZIP Code'].astype(int)"
   ]
  },
  {
   "cell_type": "code",
   "execution_count": 115,
   "metadata": {},
   "outputs": [
    {
     "ename": "ValueError",
     "evalue": "You are trying to merge on object and int64 columns. If you wish to proceed you should use pd.concat",
     "output_type": "error",
     "traceback": [
      "\u001b[1;31m---------------------------------------------------------------------------\u001b[0m",
      "\u001b[1;31mValueError\u001b[0m                                Traceback (most recent call last)",
      "\u001b[1;32m<ipython-input-115-4cb9cc352f7c>\u001b[0m in \u001b[0;36m<module>\u001b[1;34m\u001b[0m\n\u001b[1;32m----> 1\u001b[1;33m \u001b[0mdf\u001b[0m \u001b[1;33m=\u001b[0m \u001b[0mpd\u001b[0m\u001b[1;33m.\u001b[0m\u001b[0mmerge\u001b[0m\u001b[1;33m(\u001b[0m\u001b[0mtemp_df\u001b[0m\u001b[1;33m,\u001b[0m\u001b[0mz_df\u001b[0m\u001b[1;33m,\u001b[0m \u001b[0mleft_on\u001b[0m \u001b[1;33m=\u001b[0m \u001b[1;34m'ZIP Code'\u001b[0m\u001b[1;33m,\u001b[0m\u001b[0mright_on\u001b[0m\u001b[1;33m=\u001b[0m \u001b[1;34m'zipcode'\u001b[0m\u001b[1;33m)\u001b[0m\u001b[1;33m\u001b[0m\u001b[1;33m\u001b[0m\u001b[0m\n\u001b[0m",
      "\u001b[1;32m~\\AppData\\Roaming\\Python\\Python37\\site-packages\\pandas\\core\\reshape\\merge.py\u001b[0m in \u001b[0;36mmerge\u001b[1;34m(left, right, how, on, left_on, right_on, left_index, right_index, sort, suffixes, copy, indicator, validate)\u001b[0m\n\u001b[0;32m     45\u001b[0m                          \u001b[0mright_index\u001b[0m\u001b[1;33m=\u001b[0m\u001b[0mright_index\u001b[0m\u001b[1;33m,\u001b[0m \u001b[0msort\u001b[0m\u001b[1;33m=\u001b[0m\u001b[0msort\u001b[0m\u001b[1;33m,\u001b[0m \u001b[0msuffixes\u001b[0m\u001b[1;33m=\u001b[0m\u001b[0msuffixes\u001b[0m\u001b[1;33m,\u001b[0m\u001b[1;33m\u001b[0m\u001b[1;33m\u001b[0m\u001b[0m\n\u001b[0;32m     46\u001b[0m                          \u001b[0mcopy\u001b[0m\u001b[1;33m=\u001b[0m\u001b[0mcopy\u001b[0m\u001b[1;33m,\u001b[0m \u001b[0mindicator\u001b[0m\u001b[1;33m=\u001b[0m\u001b[0mindicator\u001b[0m\u001b[1;33m,\u001b[0m\u001b[1;33m\u001b[0m\u001b[1;33m\u001b[0m\u001b[0m\n\u001b[1;32m---> 47\u001b[1;33m                          validate=validate)\n\u001b[0m\u001b[0;32m     48\u001b[0m     \u001b[1;32mreturn\u001b[0m \u001b[0mop\u001b[0m\u001b[1;33m.\u001b[0m\u001b[0mget_result\u001b[0m\u001b[1;33m(\u001b[0m\u001b[1;33m)\u001b[0m\u001b[1;33m\u001b[0m\u001b[1;33m\u001b[0m\u001b[0m\n\u001b[0;32m     49\u001b[0m \u001b[1;33m\u001b[0m\u001b[0m\n",
      "\u001b[1;32m~\\AppData\\Roaming\\Python\\Python37\\site-packages\\pandas\\core\\reshape\\merge.py\u001b[0m in \u001b[0;36m__init__\u001b[1;34m(self, left, right, how, on, left_on, right_on, axis, left_index, right_index, sort, suffixes, copy, indicator, validate)\u001b[0m\n\u001b[0;32m    531\u001b[0m         \u001b[1;31m# validate the merge keys dtypes. We may need to coerce\u001b[0m\u001b[1;33m\u001b[0m\u001b[1;33m\u001b[0m\u001b[1;33m\u001b[0m\u001b[0m\n\u001b[0;32m    532\u001b[0m         \u001b[1;31m# to avoid incompat dtypes\u001b[0m\u001b[1;33m\u001b[0m\u001b[1;33m\u001b[0m\u001b[1;33m\u001b[0m\u001b[0m\n\u001b[1;32m--> 533\u001b[1;33m         \u001b[0mself\u001b[0m\u001b[1;33m.\u001b[0m\u001b[0m_maybe_coerce_merge_keys\u001b[0m\u001b[1;33m(\u001b[0m\u001b[1;33m)\u001b[0m\u001b[1;33m\u001b[0m\u001b[1;33m\u001b[0m\u001b[0m\n\u001b[0m\u001b[0;32m    534\u001b[0m \u001b[1;33m\u001b[0m\u001b[0m\n\u001b[0;32m    535\u001b[0m         \u001b[1;31m# If argument passed to validate,\u001b[0m\u001b[1;33m\u001b[0m\u001b[1;33m\u001b[0m\u001b[1;33m\u001b[0m\u001b[0m\n",
      "\u001b[1;32m~\\AppData\\Roaming\\Python\\Python37\\site-packages\\pandas\\core\\reshape\\merge.py\u001b[0m in \u001b[0;36m_maybe_coerce_merge_keys\u001b[1;34m(self)\u001b[0m\n\u001b[0;32m    978\u001b[0m                       (inferred_right in string_types and\n\u001b[0;32m    979\u001b[0m                        inferred_left not in string_types)):\n\u001b[1;32m--> 980\u001b[1;33m                     \u001b[1;32mraise\u001b[0m \u001b[0mValueError\u001b[0m\u001b[1;33m(\u001b[0m\u001b[0mmsg\u001b[0m\u001b[1;33m)\u001b[0m\u001b[1;33m\u001b[0m\u001b[1;33m\u001b[0m\u001b[0m\n\u001b[0m\u001b[0;32m    981\u001b[0m \u001b[1;33m\u001b[0m\u001b[0m\n\u001b[0;32m    982\u001b[0m             \u001b[1;31m# datetimelikes must match exactly\u001b[0m\u001b[1;33m\u001b[0m\u001b[1;33m\u001b[0m\u001b[1;33m\u001b[0m\u001b[0m\n",
      "\u001b[1;31mValueError\u001b[0m: You are trying to merge on object and int64 columns. If you wish to proceed you should use pd.concat"
     ]
    }
   ],
   "source": [
    "df = pd.merge(temp_df,z_df, left_on = 'ZIP Code',right_on= 'zipcode')"
   ]
  },
  {
   "cell_type": "code",
   "execution_count": 116,
   "metadata": {},
   "outputs": [
    {
     "data": {
      "text/html": [
       "<div>\n",
       "<style scoped>\n",
       "    .dataframe tbody tr th:only-of-type {\n",
       "        vertical-align: middle;\n",
       "    }\n",
       "\n",
       "    .dataframe tbody tr th {\n",
       "        vertical-align: top;\n",
       "    }\n",
       "\n",
       "    .dataframe thead th {\n",
       "        text-align: right;\n",
       "    }\n",
       "</style>\n",
       "<table border=\"1\" class=\"dataframe\">\n",
       "  <thead>\n",
       "    <tr style=\"text-align: right;\">\n",
       "      <th></th>\n",
       "      <th>ZIP Code</th>\n",
       "      <th>reg_count</th>\n",
       "      <th>Unnamed: 0</th>\n",
       "      <th>zipcode_type</th>\n",
       "      <th>major_city</th>\n",
       "      <th>post_office_city</th>\n",
       "      <th>common_city_list</th>\n",
       "      <th>county</th>\n",
       "      <th>state</th>\n",
       "      <th>lat</th>\n",
       "      <th>...</th>\n",
       "      <th>household_investment_income____average_income_per_household_by_income_source</th>\n",
       "      <th>household_retirement_income____percent_of_households_receiving_retirement_incom</th>\n",
       "      <th>household_retirement_income____average_income_per_household_by_income_source</th>\n",
       "      <th>source_of_earnings</th>\n",
       "      <th>means_of_transportation_to_work_for_workers_16_and_over</th>\n",
       "      <th>travel_time_to_work_in_minutes</th>\n",
       "      <th>educational_attainment_for_population_25_and_over</th>\n",
       "      <th>school_enrollment_age_3_to_17</th>\n",
       "      <th>population_2015</th>\n",
       "      <th>ev_per_1000</th>\n",
       "    </tr>\n",
       "  </thead>\n",
       "  <tbody>\n",
       "    <tr>\n",
       "      <th>0</th>\n",
       "      <td>5001.0</td>\n",
       "      <td>20</td>\n",
       "      <td>0</td>\n",
       "      <td>Standard</td>\n",
       "      <td>White River Junction</td>\n",
       "      <td>White River Junction, VT</td>\n",
       "      <td>['White River Junction', 'White Riv Jct']</td>\n",
       "      <td>Windsor County</td>\n",
       "      <td>VT</td>\n",
       "      <td>43.66</td>\n",
       "      <td>...</td>\n",
       "      <td>[{'key': 'Data', 'values': [{'x': 'Interest', ...</td>\n",
       "      <td>[{'key': 'Data', 'values': [{'x': 'IRA Distrib...</td>\n",
       "      <td>[{'key': 'Data', 'values': [{'x': 'IRA Distrib...</td>\n",
       "      <td>[{'key': 'Data', 'values': [{'x': 'Worked Full...</td>\n",
       "      <td>[{'key': 'Data', 'values': [{'x': 'Car, Truck,...</td>\n",
       "      <td>[{'key': 'Data', 'values': [{'x': '&lt; 10', 'y':...</td>\n",
       "      <td>[{'key': 'Data', 'values': [{'x': 'Less Than H...</td>\n",
       "      <td>[{'key': 'Data', 'values': [{'x': 'Enrolled In...</td>\n",
       "      <td>6660.0</td>\n",
       "      <td>3.003003</td>\n",
       "    </tr>\n",
       "    <tr>\n",
       "      <th>1</th>\n",
       "      <td>5032.0</td>\n",
       "      <td>6</td>\n",
       "      <td>1</td>\n",
       "      <td>Standard</td>\n",
       "      <td>Bethel</td>\n",
       "      <td>Bethel, VT</td>\n",
       "      <td>['Bethel']</td>\n",
       "      <td>Windsor County</td>\n",
       "      <td>VT</td>\n",
       "      <td>43.80</td>\n",
       "      <td>...</td>\n",
       "      <td>[{'key': 'Data', 'values': [{'x': 'Interest', ...</td>\n",
       "      <td>[{'key': 'Data', 'values': [{'x': 'IRA Distrib...</td>\n",
       "      <td>[{'key': 'Data', 'values': [{'x': 'IRA Distrib...</td>\n",
       "      <td>[{'key': 'Data', 'values': [{'x': 'Worked Full...</td>\n",
       "      <td>[{'key': 'Data', 'values': [{'x': 'Car, Truck,...</td>\n",
       "      <td>[{'key': 'Data', 'values': [{'x': '&lt; 10', 'y':...</td>\n",
       "      <td>[{'key': 'Data', 'values': [{'x': 'Less Than H...</td>\n",
       "      <td>[{'key': 'Data', 'values': [{'x': 'Enrolled In...</td>\n",
       "      <td>2170.0</td>\n",
       "      <td>2.764977</td>\n",
       "    </tr>\n",
       "    <tr>\n",
       "      <th>2</th>\n",
       "      <td>5033.0</td>\n",
       "      <td>14</td>\n",
       "      <td>2</td>\n",
       "      <td>Standard</td>\n",
       "      <td>Bradford</td>\n",
       "      <td>Bradford, VT</td>\n",
       "      <td>['Bradford']</td>\n",
       "      <td>Orange County</td>\n",
       "      <td>VT</td>\n",
       "      <td>44.00</td>\n",
       "      <td>...</td>\n",
       "      <td>[{'key': 'Data', 'values': [{'x': 'Interest', ...</td>\n",
       "      <td>[{'key': 'Data', 'values': [{'x': 'IRA Distrib...</td>\n",
       "      <td>[{'key': 'Data', 'values': [{'x': 'IRA Distrib...</td>\n",
       "      <td>[{'key': 'Data', 'values': [{'x': 'Worked Full...</td>\n",
       "      <td>[{'key': 'Data', 'values': [{'x': 'Car, Truck,...</td>\n",
       "      <td>[{'key': 'Data', 'values': [{'x': '&lt; 10', 'y':...</td>\n",
       "      <td>[{'key': 'Data', 'values': [{'x': 'Less Than H...</td>\n",
       "      <td>[{'key': 'Data', 'values': [{'x': 'Enrolled In...</td>\n",
       "      <td>2660.0</td>\n",
       "      <td>5.263158</td>\n",
       "    </tr>\n",
       "    <tr>\n",
       "      <th>3</th>\n",
       "      <td>5034.0</td>\n",
       "      <td>3</td>\n",
       "      <td>3</td>\n",
       "      <td>Standard</td>\n",
       "      <td>Bridgewater</td>\n",
       "      <td>Bridgewater, VT</td>\n",
       "      <td>['Bridgewater']</td>\n",
       "      <td>Windsor County</td>\n",
       "      <td>VT</td>\n",
       "      <td>43.59</td>\n",
       "      <td>...</td>\n",
       "      <td>[{'key': 'Data', 'values': [{'x': 'Interest', ...</td>\n",
       "      <td>[{'key': 'Data', 'values': [{'x': 'IRA Distrib...</td>\n",
       "      <td>[{'key': 'Data', 'values': [{'x': 'IRA Distrib...</td>\n",
       "      <td>[{'key': 'Data', 'values': [{'x': 'Worked Full...</td>\n",
       "      <td>[{'key': 'Data', 'values': [{'x': 'Car, Truck,...</td>\n",
       "      <td>[{'key': 'Data', 'values': [{'x': '&lt; 10', 'y':...</td>\n",
       "      <td>[{'key': 'Data', 'values': [{'x': 'Less Than H...</td>\n",
       "      <td>[{'key': 'Data', 'values': [{'x': 'Enrolled In...</td>\n",
       "      <td>320.0</td>\n",
       "      <td>9.375000</td>\n",
       "    </tr>\n",
       "    <tr>\n",
       "      <th>4</th>\n",
       "      <td>5035.0</td>\n",
       "      <td>4</td>\n",
       "      <td>4</td>\n",
       "      <td>Standard</td>\n",
       "      <td>Bridgewater Corners</td>\n",
       "      <td>Bridgewater Corners, VT</td>\n",
       "      <td>['Bridgewater Corners', 'Brdgewtr Cors', 'Brid...</td>\n",
       "      <td>Windsor County</td>\n",
       "      <td>VT</td>\n",
       "      <td>43.60</td>\n",
       "      <td>...</td>\n",
       "      <td>[{'key': 'Data', 'values': [{'x': 'Interest', ...</td>\n",
       "      <td>[{'key': 'Data', 'values': [{'x': 'IRA Distrib...</td>\n",
       "      <td>[{'key': 'Data', 'values': [{'x': 'IRA Distrib...</td>\n",
       "      <td>[{'key': 'Data', 'values': [{'x': 'Worked Full...</td>\n",
       "      <td>[{'key': 'Data', 'values': [{'x': 'Car, Truck,...</td>\n",
       "      <td>[{'key': 'Data', 'values': [{'x': '&lt; 10', 'y':...</td>\n",
       "      <td>[{'key': 'Data', 'values': [{'x': 'Less Than H...</td>\n",
       "      <td>[{'key': 'Data', 'values': [{'x': 'Enrolled In...</td>\n",
       "      <td>510.0</td>\n",
       "      <td>7.843137</td>\n",
       "    </tr>\n",
       "  </tbody>\n",
       "</table>\n",
       "<p>5 rows × 58 columns</p>\n",
       "</div>"
      ],
      "text/plain": [
       "   ZIP Code  reg_count  Unnamed: 0 zipcode_type            major_city  \\\n",
       "0    5001.0         20           0     Standard  White River Junction   \n",
       "1    5032.0          6           1     Standard                Bethel   \n",
       "2    5033.0         14           2     Standard              Bradford   \n",
       "3    5034.0          3           3     Standard           Bridgewater   \n",
       "4    5035.0          4           4     Standard   Bridgewater Corners   \n",
       "\n",
       "           post_office_city  \\\n",
       "0  White River Junction, VT   \n",
       "1                Bethel, VT   \n",
       "2              Bradford, VT   \n",
       "3           Bridgewater, VT   \n",
       "4   Bridgewater Corners, VT   \n",
       "\n",
       "                                    common_city_list          county state  \\\n",
       "0          ['White River Junction', 'White Riv Jct']  Windsor County    VT   \n",
       "1                                         ['Bethel']  Windsor County    VT   \n",
       "2                                       ['Bradford']   Orange County    VT   \n",
       "3                                    ['Bridgewater']  Windsor County    VT   \n",
       "4  ['Bridgewater Corners', 'Brdgewtr Cors', 'Brid...  Windsor County    VT   \n",
       "\n",
       "     lat  ...  \\\n",
       "0  43.66  ...   \n",
       "1  43.80  ...   \n",
       "2  44.00  ...   \n",
       "3  43.59  ...   \n",
       "4  43.60  ...   \n",
       "\n",
       "   household_investment_income____average_income_per_household_by_income_source  \\\n",
       "0  [{'key': 'Data', 'values': [{'x': 'Interest', ...                              \n",
       "1  [{'key': 'Data', 'values': [{'x': 'Interest', ...                              \n",
       "2  [{'key': 'Data', 'values': [{'x': 'Interest', ...                              \n",
       "3  [{'key': 'Data', 'values': [{'x': 'Interest', ...                              \n",
       "4  [{'key': 'Data', 'values': [{'x': 'Interest', ...                              \n",
       "\n",
       "  household_retirement_income____percent_of_households_receiving_retirement_incom  \\\n",
       "0  [{'key': 'Data', 'values': [{'x': 'IRA Distrib...                                \n",
       "1  [{'key': 'Data', 'values': [{'x': 'IRA Distrib...                                \n",
       "2  [{'key': 'Data', 'values': [{'x': 'IRA Distrib...                                \n",
       "3  [{'key': 'Data', 'values': [{'x': 'IRA Distrib...                                \n",
       "4  [{'key': 'Data', 'values': [{'x': 'IRA Distrib...                                \n",
       "\n",
       "   household_retirement_income____average_income_per_household_by_income_source  \\\n",
       "0  [{'key': 'Data', 'values': [{'x': 'IRA Distrib...                              \n",
       "1  [{'key': 'Data', 'values': [{'x': 'IRA Distrib...                              \n",
       "2  [{'key': 'Data', 'values': [{'x': 'IRA Distrib...                              \n",
       "3  [{'key': 'Data', 'values': [{'x': 'IRA Distrib...                              \n",
       "4  [{'key': 'Data', 'values': [{'x': 'IRA Distrib...                              \n",
       "\n",
       "                                  source_of_earnings  \\\n",
       "0  [{'key': 'Data', 'values': [{'x': 'Worked Full...   \n",
       "1  [{'key': 'Data', 'values': [{'x': 'Worked Full...   \n",
       "2  [{'key': 'Data', 'values': [{'x': 'Worked Full...   \n",
       "3  [{'key': 'Data', 'values': [{'x': 'Worked Full...   \n",
       "4  [{'key': 'Data', 'values': [{'x': 'Worked Full...   \n",
       "\n",
       "   means_of_transportation_to_work_for_workers_16_and_over  \\\n",
       "0  [{'key': 'Data', 'values': [{'x': 'Car, Truck,...         \n",
       "1  [{'key': 'Data', 'values': [{'x': 'Car, Truck,...         \n",
       "2  [{'key': 'Data', 'values': [{'x': 'Car, Truck,...         \n",
       "3  [{'key': 'Data', 'values': [{'x': 'Car, Truck,...         \n",
       "4  [{'key': 'Data', 'values': [{'x': 'Car, Truck,...         \n",
       "\n",
       "                      travel_time_to_work_in_minutes  \\\n",
       "0  [{'key': 'Data', 'values': [{'x': '< 10', 'y':...   \n",
       "1  [{'key': 'Data', 'values': [{'x': '< 10', 'y':...   \n",
       "2  [{'key': 'Data', 'values': [{'x': '< 10', 'y':...   \n",
       "3  [{'key': 'Data', 'values': [{'x': '< 10', 'y':...   \n",
       "4  [{'key': 'Data', 'values': [{'x': '< 10', 'y':...   \n",
       "\n",
       "   educational_attainment_for_population_25_and_over  \\\n",
       "0  [{'key': 'Data', 'values': [{'x': 'Less Than H...   \n",
       "1  [{'key': 'Data', 'values': [{'x': 'Less Than H...   \n",
       "2  [{'key': 'Data', 'values': [{'x': 'Less Than H...   \n",
       "3  [{'key': 'Data', 'values': [{'x': 'Less Than H...   \n",
       "4  [{'key': 'Data', 'values': [{'x': 'Less Than H...   \n",
       "\n",
       "                       school_enrollment_age_3_to_17  population_2015  \\\n",
       "0  [{'key': 'Data', 'values': [{'x': 'Enrolled In...           6660.0   \n",
       "1  [{'key': 'Data', 'values': [{'x': 'Enrolled In...           2170.0   \n",
       "2  [{'key': 'Data', 'values': [{'x': 'Enrolled In...           2660.0   \n",
       "3  [{'key': 'Data', 'values': [{'x': 'Enrolled In...            320.0   \n",
       "4  [{'key': 'Data', 'values': [{'x': 'Enrolled In...            510.0   \n",
       "\n",
       "   ev_per_1000  \n",
       "0     3.003003  \n",
       "1     2.764977  \n",
       "2     5.263158  \n",
       "3     9.375000  \n",
       "4     7.843137  \n",
       "\n",
       "[5 rows x 58 columns]"
      ]
     },
     "execution_count": 116,
     "metadata": {},
     "output_type": "execute_result"
    }
   ],
   "source": [
    "df.head()"
   ]
  },
  {
   "cell_type": "code",
   "execution_count": 117,
   "metadata": {},
   "outputs": [
    {
     "data": {
      "image/png": "[encoded data removed]",
      "text/plain": [
       "<Figure size 432x288 with 1 Axes>"
      ]
     },
     "metadata": {
      "needs_background": "light"
     },
     "output_type": "display_data"
    }
   ],
   "source": [
    "sns.kdeplot(df[df['state']=='WA']['reg_count'], shade=True, color=\"r\")\n",
    "sns.kdeplot(df[df['state']=='VT']['reg_count'], shade=True, color=\"b\")\n",
    "plt.show()\n",
    "\n"
   ]
  },
  {
   "cell_type": "markdown",
   "metadata": {},
   "source": [
    "Washington has zip codes with double digit registrations. Other states have fewer regs"
   ]
  },
  {
   "cell_type": "markdown",
   "metadata": {},
   "source": [
    "### population_2015\n",
    "Get the latest population count by zip code\n"
   ]
  },
  {
   "cell_type": "code",
   "execution_count": 118,
   "metadata": {},
   "outputs": [
    {
     "data": {
      "text/plain": [
       "\"[{'key': 'Data', 'values': [{'x': 2007, 'y': 1210}, {'x': 2008, 'y': 1160}, {'x': 2009, 'y': 1110}, {'x': 2010, 'y': 1118}, {'x': 2011, 'y': 1111}, {'x': 2012, 'y': 1150}, {'x': 2013, 'y': 1100}, {'x': 2014, 'y': 1100}, {'x': 2015, 'y': 1080}]}]\""
      ]
     },
     "execution_count": 118,
     "metadata": {},
     "output_type": "execute_result"
    }
   ],
   "source": [
    "df.loc[23,'population_by_year'] ### sample data--- convert to dict and then get the last one"
   ]
  },
  {
   "cell_type": "code",
   "execution_count": 119,
   "metadata": {},
   "outputs": [],
   "source": [
    "def get_population(x):\n",
    "    try:\n",
    "        dict_x = eval(x)\n",
    "        return dict_x[0]['values'][-1]['y']\n",
    "    except:\n",
    "        return None\n"
   ]
  },
  {
   "cell_type": "code",
   "execution_count": 120,
   "metadata": {},
   "outputs": [],
   "source": [
    "df['population_2015'] = df['population_by_year'].apply(get_population)"
   ]
  },
  {
   "cell_type": "markdown",
   "metadata": {},
   "source": [
    "### ev_per_1000 <--- TARGET VARIABLE"
   ]
  },
  {
   "cell_type": "code",
   "execution_count": 121,
   "metadata": {},
   "outputs": [],
   "source": [
    "df['ev_per_1000'] = (df['reg_count']/df['population_2015'])*1000"
   ]
  },
  {
   "cell_type": "code",
   "execution_count": 122,
   "metadata": {},
   "outputs": [
    {
     "data": {
      "text/plain": [
       "<matplotlib.axes._subplots.AxesSubplot at 0xec80e13780>"
      ]
     },
     "execution_count": 122,
     "metadata": {},
     "output_type": "execute_result"
    },
    {
     "data": {
      "image/png": "[encoded data removed]",
      "text/plain": [
       "<Figure size 432x288 with 1 Axes>"
      ]
     },
     "metadata": {
      "needs_background": "light"
     },
     "output_type": "display_data"
    }
   ],
   "source": [
    "sns.kdeplot(df[(df['state']=='WA')&(df['ev_per_1000'].isnull()!=True)]['ev_per_1000'], shade=True, color=\"r\")\n",
    "sns.kdeplot(df[(df['state']=='VT')&(df['ev_per_1000'].isnull()!=True)]['ev_per_1000'], shade=True, color=\"b\")"
   ]
  },
  {
   "cell_type": "markdown",
   "metadata": {},
   "source": [
    "Well, although Washington has more EVs than Vermont, both have comparable ev_per_1000.\n"
   ]
  },
  {
   "cell_type": "markdown",
   "metadata": {},
   "source": [
    "### median_household_income"
   ]
  },
  {
   "cell_type": "code",
   "execution_count": 123,
   "metadata": {},
   "outputs": [
    {
     "data": {
      "text/plain": [
       "26368.0"
      ]
     },
     "execution_count": 123,
     "metadata": {},
     "output_type": "execute_result"
    }
   ],
   "source": [
    "df.loc[765,'median_household_income']"
   ]
  },
  {
   "cell_type": "code",
   "execution_count": 124,
   "metadata": {},
   "outputs": [
    {
     "data": {
      "text/plain": [
       "<matplotlib.axes._subplots.AxesSubplot at 0xec80e6ee10>"
      ]
     },
     "execution_count": 124,
     "metadata": {},
     "output_type": "execute_result"
    },
    {
     "data": {
      "image/png": "[encoded data removed]",
      "text/plain": [
       "<Figure size 432x288 with 1 Axes>"
      ]
     },
     "metadata": {
      "needs_background": "light"
     },
     "output_type": "display_data"
    }
   ],
   "source": [
    "sns.kdeplot(df[(df['state']=='WA')&(df['median_household_income'].isnull()!=True)]['median_household_income'], shade=True, color=\"r\")\n",
    "sns.kdeplot(df[(df['state']=='VT')&(df['median_household_income'].isnull()!=True)]['median_household_income'], shade=True, color=\"b\")"
   ]
  },
  {
   "cell_type": "markdown",
   "metadata": {},
   "source": [
    "### median_home_value"
   ]
  },
  {
   "cell_type": "code",
   "execution_count": 125,
   "metadata": {},
   "outputs": [
    {
     "data": {
      "text/plain": [
       "50300.0"
      ]
     },
     "execution_count": 125,
     "metadata": {},
     "output_type": "execute_result"
    }
   ],
   "source": [
    "df.loc[765,'median_home_value']"
   ]
  },
  {
   "cell_type": "code",
   "execution_count": 126,
   "metadata": {},
   "outputs": [
    {
     "data": {
      "text/plain": [
       "<matplotlib.axes._subplots.AxesSubplot at 0xec80ee74e0>"
      ]
     },
     "execution_count": 126,
     "metadata": {},
     "output_type": "execute_result"
    },
    {
     "data": {
      "image/png": "[encoded data removed]",
      "text/plain": [
       "<Figure size 432x288 with 1 Axes>"
      ]
     },
     "metadata": {
      "needs_background": "light"
     },
     "output_type": "display_data"
    }
   ],
   "source": [
    "sns.kdeplot(df[(df['state']=='WA')&(df['median_home_value'].isnull()!=True)]['median_home_value'], shade=True, color=\"r\")\n",
    "sns.kdeplot(df[(df['state']=='VT')&(df['median_home_value'].isnull()!=True)]['median_home_value'], shade=True, color=\"b\")"
   ]
  },
  {
   "cell_type": "markdown",
   "metadata": {},
   "source": [
    "### educational_attainment_for_population_25_and_over"
   ]
  },
  {
   "cell_type": "code",
   "execution_count": 127,
   "metadata": {},
   "outputs": [
    {
     "data": {
      "text/plain": [
       "'[{\\'key\\': \\'Data\\', \\'values\\': [{\\'x\\': \\'Less Than High School Diploma\\', \\'y\\': 5570}, {\\'x\\': \\'High School Graduate\\', \\'y\\': 14846}, {\\'x\\': \"Associate\\'s Degree\", \\'y\\': 1496}, {\\'x\\': \"Bachelor\\'s Degree\", \\'y\\': 1332}, {\\'x\\': \"Master\\'s Degree\", \\'y\\': 514}, {\\'x\\': \\'Professional School Degree\\', \\'y\\': 101}, {\\'x\\': \\'Doctorate Degree\\', \\'y\\': 13}]}]'"
      ]
     },
     "execution_count": 127,
     "metadata": {},
     "output_type": "execute_result"
    }
   ],
   "source": [
    "df.loc[765,'educational_attainment_for_population_25_and_over']"
   ]
  },
  {
   "cell_type": "code",
   "execution_count": null,
   "metadata": {},
   "outputs": [],
   "source": []
  },
  {
   "cell_type": "code",
   "execution_count": null,
   "metadata": {},
   "outputs": [],
   "source": []
  }
 ],
 "metadata": {
  "kernelspec": {
   "display_name": "Python 3",
   "language": "python",
   "name": "python3"
  },
  "language_info": {
   "codemirror_mode": {
    "name": "ipython",
    "version": 3
   },
   "file_extension": ".py",
   "mimetype": "text/x-python",
   "name": "python",
   "nbconvert_exporter": "python",
   "pygments_lexer": "ipython3",
   "version": "3.7.1"
  },
  "toc": {
   "base_numbering": 1,
   "nav_menu": {},
   "number_sections": true,
   "sideBar": true,
   "skip_h1_title": false,
   "title_cell": "Table of Contents",
   "title_sidebar": "Contents",
   "toc_cell": false,
   "toc_position": {},
   "toc_section_display": true,
   "toc_window_display": true
  }
 },
 "nbformat": 4,
 "nbformat_minor": 2
}
