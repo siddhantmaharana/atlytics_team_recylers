{
 "cells": [
  {
   "cell_type": "code",
   "execution_count": 1,
   "metadata": {},
   "outputs": [],
   "source": [
    "import pandas as pd\n",
    "import requests\n",
    "import os\n",
    "import json"
   ]
  },
  {
   "cell_type": "markdown",
   "metadata": {},
   "source": [
    "## Exploring EV data from evdatahub"
   ]
  },
  {
   "cell_type": "code",
   "execution_count": 2,
   "metadata": {},
   "outputs": [],
   "source": [
    "\n",
    "CURRENT_PATH = os.getcwd()"
   ]
  },
  {
   "cell_type": "code",
   "execution_count": 3,
   "metadata": {},
   "outputs": [],
   "source": [
    "DATA_PATH = os.path.join(CURRENT_PATH,\"data\")"
   ]
  },
  {
   "cell_type": "code",
   "execution_count": 4,
   "metadata": {},
   "outputs": [],
   "source": [
    "reg_df = pd.DataFrame()"
   ]
  },
  {
   "cell_type": "code",
   "execution_count": 8,
   "metadata": {},
   "outputs": [],
   "source": [
    "ev_reg_files = ['co_ev_registrations_public.xlsx',\n",
    " 'ct_ev_registrations.xlsx',\n",
    " 'fl_ev_registrations.xlsx',\n",
    " 'mi_ev_registrations_public.xlsx',\n",
    " 'mn_ev_registrations_public.xlsx',\n",
    " 'nj_ev_registrations_public.xlsx',\n",
    " 'ny_ev_registrations_public.xlsx',\n",
    " 'or_ev_registrations_public.xlsx',\n",
    " 'tx_ev_registrations_public.xlsx',\n",
    " 'va_ev_registrations_public.xlsx',\n",
    " 'vt_ev_registrations_public.xlsx',\n",
    " 'wa_ev_registrations_public.xlsx',\n",
    " 'wi_ev_registrations_public.xlsx']\n"
   ]
  },
  {
   "cell_type": "code",
   "execution_count": 9,
   "metadata": {},
   "outputs": [
    {
     "name": "stderr",
     "output_type": "stream",
     "text": [
      "C:\\Users\\SMaharana\\AppData\\Local\\Continuum\\anaconda3\\lib\\site-packages\\ipykernel_launcher.py:6: FutureWarning: Sorting because non-concatenation axis is not aligned. A future version\n",
      "of pandas will change to not sort by default.\n",
      "\n",
      "To accept the future behavior, pass 'sort=False'.\n",
      "\n",
      "To retain the current behavior and silence the warning, pass 'sort=True'.\n",
      "\n",
      "  \n"
     ]
    }
   ],
   "source": [
    "for f in ev_reg_files:\n",
    "    file_path = os.path.join(DATA_PATH,f)\n",
    "    temp_df = pd.read_excel(file_path)\n",
    "    temp_df['file_name'] = f\n",
    "#     temp_df['state'] = file_path.split(\"_\")[-4].split(\"\\\\\")[-1] ## getting the name of the state from the file name\n",
    "    reg_df = pd.concat([reg_df,temp_df])"
   ]
  },
  {
   "cell_type": "code",
   "execution_count": 10,
   "metadata": {},
   "outputs": [
    {
     "data": {
      "text/plain": [
       "ny_ev_registrations_public.xlsx    956830\n",
       "wa_ev_registrations_public.xlsx    429192\n",
       "nj_ev_registrations_public.xlsx     91143\n",
       "or_ev_registrations_public.xlsx     76342\n",
       "tx_ev_registrations_public.xlsx     74143\n",
       "fl_ev_registrations.xlsx            67209\n",
       "va_ev_registrations_public.xlsx     28039\n",
       "mi_ev_registrations_public.xlsx     27518\n",
       "co_ev_registrations_public.xlsx     22751\n",
       "mn_ev_registrations_public.xlsx     16177\n",
       "ct_ev_registrations.xlsx            10569\n",
       "wi_ev_registrations_public.xlsx      6380\n",
       "vt_ev_registrations_public.xlsx      6196\n",
       "Name: file_name, dtype: int64"
      ]
     },
     "execution_count": 10,
     "metadata": {},
     "output_type": "execute_result"
    }
   ],
   "source": [
    "reg_df['file_name'].value_counts()"
   ]
  },
  {
   "cell_type": "code",
   "execution_count": 11,
   "metadata": {},
   "outputs": [],
   "source": [
    "reg_df['state'] = reg_df['file_name'].apply(lambda x: x.split(\"_\")[0])"
   ]
  },
  {
   "cell_type": "code",
   "execution_count": 12,
   "metadata": {},
   "outputs": [
    {
     "data": {
      "text/html": [
       "<div>\n",
       "<style scoped>\n",
       "    .dataframe tbody tr th:only-of-type {\n",
       "        vertical-align: middle;\n",
       "    }\n",
       "\n",
       "    .dataframe tbody tr th {\n",
       "        vertical-align: top;\n",
       "    }\n",
       "\n",
       "    .dataframe thead th {\n",
       "        text-align: right;\n",
       "    }\n",
       "</style>\n",
       "<table border=\"1\" class=\"dataframe\">\n",
       "  <thead>\n",
       "    <tr style=\"text-align: right;\">\n",
       "      <th></th>\n",
       "      <th>County</th>\n",
       "      <th>County GEOID</th>\n",
       "      <th>DMV ID</th>\n",
       "      <th>Registration Expiration Date</th>\n",
       "      <th>Registration Valid Date</th>\n",
       "      <th>VIN Model Year</th>\n",
       "      <th>VIN Prefix</th>\n",
       "      <th>Vehicle Name</th>\n",
       "      <th>ZIP Code</th>\n",
       "      <th>file_name</th>\n",
       "      <th>state</th>\n",
       "    </tr>\n",
       "  </thead>\n",
       "  <tbody>\n",
       "    <tr>\n",
       "      <th>0</th>\n",
       "      <td>NaN</td>\n",
       "      <td>NaN</td>\n",
       "      <td>1</td>\n",
       "      <td>2020-08-31 00:00:00</td>\n",
       "      <td>2019-08-07</td>\n",
       "      <td>K</td>\n",
       "      <td>5YJ3E1EA</td>\n",
       "      <td>NaN</td>\n",
       "      <td>80003</td>\n",
       "      <td>co_ev_registrations_public.xlsx</td>\n",
       "      <td>co</td>\n",
       "    </tr>\n",
       "    <tr>\n",
       "      <th>1</th>\n",
       "      <td>NaN</td>\n",
       "      <td>NaN</td>\n",
       "      <td>1</td>\n",
       "      <td>2020-08-31 00:00:00</td>\n",
       "      <td>2019-08-07</td>\n",
       "      <td>K</td>\n",
       "      <td>5YJ3E1EA</td>\n",
       "      <td>NaN</td>\n",
       "      <td>80241</td>\n",
       "      <td>co_ev_registrations_public.xlsx</td>\n",
       "      <td>co</td>\n",
       "    </tr>\n",
       "    <tr>\n",
       "      <th>2</th>\n",
       "      <td>NaN</td>\n",
       "      <td>NaN</td>\n",
       "      <td>1</td>\n",
       "      <td>2020-08-31 00:00:00</td>\n",
       "      <td>2019-08-07</td>\n",
       "      <td>G</td>\n",
       "      <td>1N4BZ0CP</td>\n",
       "      <td>NaN</td>\n",
       "      <td>80212</td>\n",
       "      <td>co_ev_registrations_public.xlsx</td>\n",
       "      <td>co</td>\n",
       "    </tr>\n",
       "    <tr>\n",
       "      <th>3</th>\n",
       "      <td>NaN</td>\n",
       "      <td>NaN</td>\n",
       "      <td>1</td>\n",
       "      <td>2020-08-31 00:00:00</td>\n",
       "      <td>2019-08-07</td>\n",
       "      <td>E</td>\n",
       "      <td>5YJSA1H1</td>\n",
       "      <td>NaN</td>\n",
       "      <td>80210</td>\n",
       "      <td>co_ev_registrations_public.xlsx</td>\n",
       "      <td>co</td>\n",
       "    </tr>\n",
       "    <tr>\n",
       "      <th>4</th>\n",
       "      <td>NaN</td>\n",
       "      <td>NaN</td>\n",
       "      <td>1</td>\n",
       "      <td>2020-07-31 00:00:00</td>\n",
       "      <td>2019-08-07</td>\n",
       "      <td>C</td>\n",
       "      <td>5YJSA1CN</td>\n",
       "      <td>NaN</td>\n",
       "      <td>80304</td>\n",
       "      <td>co_ev_registrations_public.xlsx</td>\n",
       "      <td>co</td>\n",
       "    </tr>\n",
       "  </tbody>\n",
       "</table>\n",
       "</div>"
      ],
      "text/plain": [
       "  County  County GEOID  DMV ID Registration Expiration Date  \\\n",
       "0    NaN           NaN       1          2020-08-31 00:00:00   \n",
       "1    NaN           NaN       1          2020-08-31 00:00:00   \n",
       "2    NaN           NaN       1          2020-08-31 00:00:00   \n",
       "3    NaN           NaN       1          2020-08-31 00:00:00   \n",
       "4    NaN           NaN       1          2020-07-31 00:00:00   \n",
       "\n",
       "  Registration Valid Date VIN Model Year VIN Prefix Vehicle Name ZIP Code  \\\n",
       "0              2019-08-07              K   5YJ3E1EA          NaN    80003   \n",
       "1              2019-08-07              K   5YJ3E1EA          NaN    80241   \n",
       "2              2019-08-07              G   1N4BZ0CP          NaN    80212   \n",
       "3              2019-08-07              E   5YJSA1H1          NaN    80210   \n",
       "4              2019-08-07              C   5YJSA1CN          NaN    80304   \n",
       "\n",
       "                         file_name state  \n",
       "0  co_ev_registrations_public.xlsx    co  \n",
       "1  co_ev_registrations_public.xlsx    co  \n",
       "2  co_ev_registrations_public.xlsx    co  \n",
       "3  co_ev_registrations_public.xlsx    co  \n",
       "4  co_ev_registrations_public.xlsx    co  "
      ]
     },
     "execution_count": 12,
     "metadata": {},
     "output_type": "execute_result"
    }
   ],
   "source": [
    "reg_df.head()"
   ]
  },
  {
   "cell_type": "markdown",
   "metadata": {},
   "source": [
    "### Combining all imported data"
   ]
  },
  {
   "cell_type": "code",
   "execution_count": 42,
   "metadata": {},
   "outputs": [],
   "source": [
    "reg_df.to_csv('data/registration_data_all_states.csv')"
   ]
  },
  {
   "cell_type": "code",
   "execution_count": 66,
   "metadata": {},
   "outputs": [],
   "source": [
    "import datetime as dt\n",
    "reg_df['Registration Expiration Date'] = pd.to_datetime(reg_df['Registration Expiration Date'],errors = 'coerce')\n",
    "reg_df['Registration Valid Date'] = pd.to_datetime(reg_df['Registration Valid Date'],errors = 'coerce')"
   ]
  },
  {
   "cell_type": "code",
   "execution_count": 88,
   "metadata": {},
   "outputs": [],
   "source": [
    "reg_df['Exp_year'] = reg_df['Registration Expiration Date'].dt.year\n",
    "reg_df['Valid_year'] = reg_df['Registration Valid Date'].dt.year"
   ]
  },
  {
   "cell_type": "code",
   "execution_count": 89,
   "metadata": {},
   "outputs": [
    {
     "data": {
      "text/html": [
       "<div>\n",
       "<style scoped>\n",
       "    .dataframe tbody tr th:only-of-type {\n",
       "        vertical-align: middle;\n",
       "    }\n",
       "\n",
       "    .dataframe tbody tr th {\n",
       "        vertical-align: top;\n",
       "    }\n",
       "\n",
       "    .dataframe thead th {\n",
       "        text-align: right;\n",
       "    }\n",
       "</style>\n",
       "<table border=\"1\" class=\"dataframe\">\n",
       "  <thead>\n",
       "    <tr style=\"text-align: right;\">\n",
       "      <th></th>\n",
       "      <th>County</th>\n",
       "      <th>County GEOID</th>\n",
       "      <th>DMV ID</th>\n",
       "      <th>Registration Expiration Date</th>\n",
       "      <th>Registration Valid Date</th>\n",
       "      <th>VIN Model Year</th>\n",
       "      <th>VIN Prefix</th>\n",
       "      <th>Vehicle Name</th>\n",
       "      <th>ZIP Code</th>\n",
       "      <th>file_name</th>\n",
       "      <th>state</th>\n",
       "      <th>Exp_year</th>\n",
       "      <th>Valid_year</th>\n",
       "    </tr>\n",
       "  </thead>\n",
       "  <tbody>\n",
       "    <tr>\n",
       "      <th>0</th>\n",
       "      <td>NaN</td>\n",
       "      <td>NaN</td>\n",
       "      <td>1</td>\n",
       "      <td>2020-08-31</td>\n",
       "      <td>2019-08-07</td>\n",
       "      <td>K</td>\n",
       "      <td>5YJ3E1EA</td>\n",
       "      <td>NaN</td>\n",
       "      <td>80003</td>\n",
       "      <td>co_ev_registrations_public.xlsx</td>\n",
       "      <td>co</td>\n",
       "      <td>2020.0</td>\n",
       "      <td>2019.0</td>\n",
       "    </tr>\n",
       "    <tr>\n",
       "      <th>1</th>\n",
       "      <td>NaN</td>\n",
       "      <td>NaN</td>\n",
       "      <td>1</td>\n",
       "      <td>2020-08-31</td>\n",
       "      <td>2019-08-07</td>\n",
       "      <td>K</td>\n",
       "      <td>5YJ3E1EA</td>\n",
       "      <td>NaN</td>\n",
       "      <td>80241</td>\n",
       "      <td>co_ev_registrations_public.xlsx</td>\n",
       "      <td>co</td>\n",
       "      <td>2020.0</td>\n",
       "      <td>2019.0</td>\n",
       "    </tr>\n",
       "    <tr>\n",
       "      <th>2</th>\n",
       "      <td>NaN</td>\n",
       "      <td>NaN</td>\n",
       "      <td>1</td>\n",
       "      <td>2020-08-31</td>\n",
       "      <td>2019-08-07</td>\n",
       "      <td>G</td>\n",
       "      <td>1N4BZ0CP</td>\n",
       "      <td>NaN</td>\n",
       "      <td>80212</td>\n",
       "      <td>co_ev_registrations_public.xlsx</td>\n",
       "      <td>co</td>\n",
       "      <td>2020.0</td>\n",
       "      <td>2019.0</td>\n",
       "    </tr>\n",
       "    <tr>\n",
       "      <th>3</th>\n",
       "      <td>NaN</td>\n",
       "      <td>NaN</td>\n",
       "      <td>1</td>\n",
       "      <td>2020-08-31</td>\n",
       "      <td>2019-08-07</td>\n",
       "      <td>E</td>\n",
       "      <td>5YJSA1H1</td>\n",
       "      <td>NaN</td>\n",
       "      <td>80210</td>\n",
       "      <td>co_ev_registrations_public.xlsx</td>\n",
       "      <td>co</td>\n",
       "      <td>2020.0</td>\n",
       "      <td>2019.0</td>\n",
       "    </tr>\n",
       "    <tr>\n",
       "      <th>4</th>\n",
       "      <td>NaN</td>\n",
       "      <td>NaN</td>\n",
       "      <td>1</td>\n",
       "      <td>2020-07-31</td>\n",
       "      <td>2019-08-07</td>\n",
       "      <td>C</td>\n",
       "      <td>5YJSA1CN</td>\n",
       "      <td>NaN</td>\n",
       "      <td>80304</td>\n",
       "      <td>co_ev_registrations_public.xlsx</td>\n",
       "      <td>co</td>\n",
       "      <td>2020.0</td>\n",
       "      <td>2019.0</td>\n",
       "    </tr>\n",
       "  </tbody>\n",
       "</table>\n",
       "</div>"
      ],
      "text/plain": [
       "  County  County GEOID  DMV ID Registration Expiration Date  \\\n",
       "0    NaN           NaN       1                   2020-08-31   \n",
       "1    NaN           NaN       1                   2020-08-31   \n",
       "2    NaN           NaN       1                   2020-08-31   \n",
       "3    NaN           NaN       1                   2020-08-31   \n",
       "4    NaN           NaN       1                   2020-07-31   \n",
       "\n",
       "  Registration Valid Date VIN Model Year VIN Prefix Vehicle Name ZIP Code  \\\n",
       "0              2019-08-07              K   5YJ3E1EA          NaN    80003   \n",
       "1              2019-08-07              K   5YJ3E1EA          NaN    80241   \n",
       "2              2019-08-07              G   1N4BZ0CP          NaN    80212   \n",
       "3              2019-08-07              E   5YJSA1H1          NaN    80210   \n",
       "4              2019-08-07              C   5YJSA1CN          NaN    80304   \n",
       "\n",
       "                         file_name state  Exp_year  Valid_year  \n",
       "0  co_ev_registrations_public.xlsx    co    2020.0      2019.0  \n",
       "1  co_ev_registrations_public.xlsx    co    2020.0      2019.0  \n",
       "2  co_ev_registrations_public.xlsx    co    2020.0      2019.0  \n",
       "3  co_ev_registrations_public.xlsx    co    2020.0      2019.0  \n",
       "4  co_ev_registrations_public.xlsx    co    2020.0      2019.0  "
      ]
     },
     "execution_count": 89,
     "metadata": {},
     "output_type": "execute_result"
    }
   ],
   "source": [
    "reg_df.head()"
   ]
  },
  {
   "cell_type": "code",
   "execution_count": 43,
   "metadata": {},
   "outputs": [],
   "source": [
    "## get all states\n",
    "unique_state_list = reg_df['state'].unique().tolist()"
   ]
  },
  {
   "cell_type": "markdown",
   "metadata": {},
   "source": [
    "### Can we group by Exp date?"
   ]
  },
  {
   "cell_type": "code",
   "execution_count": 125,
   "metadata": {},
   "outputs": [],
   "source": [
    "grouped_by_exp_year = pd.DataFrame({'count' : reg_df.groupby(['state','Exp_year']).size()}).reset_index()"
   ]
  },
  {
   "cell_type": "code",
   "execution_count": 128,
   "metadata": {},
   "outputs": [
    {
     "data": {
      "text/plain": [
       "state\n",
       "co     22746\n",
       "ct      7951\n",
       "mn     15996\n",
       "ny    794311\n",
       "va     27489\n",
       "wa     60317\n",
       "Name: count, dtype: int64"
      ]
     },
     "execution_count": 128,
     "metadata": {},
     "output_type": "execute_result"
    }
   ],
   "source": [
    "grouped_by_exp_year[grouped_by_exp_year['Exp_year']>=2018].groupby(['state'])['count'].sum()"
   ]
  },
  {
   "cell_type": "code",
   "execution_count": 129,
   "metadata": {},
   "outputs": [],
   "source": [
    "grouped_by_val_year = pd.DataFrame({'count' : reg_df.groupby(['state','Valid_year']).size()}).reset_index()"
   ]
  },
  {
   "cell_type": "code",
   "execution_count": 319,
   "metadata": {},
   "outputs": [
    {
     "data": {
      "text/plain": [
       "state\n",
       "co     22749\n",
       "ct      6210\n",
       "fl     67209\n",
       "mi     17827\n",
       "mn     16087\n",
       "nj     67140\n",
       "ny    507246\n",
       "or     23312\n",
       "tx     74143\n",
       "va     13613\n",
       "vt      2090\n",
       "wa    340255\n",
       "wi      6380\n",
       "Name: count, dtype: int64"
      ]
     },
     "execution_count": 319,
     "metadata": {},
     "output_type": "execute_result"
    }
   ],
   "source": [
    "grouped_by_val_year[grouped_by_val_year['Valid_year']>=2018].groupby(['state'])['count'].sum()"
   ]
  },
  {
   "cell_type": "markdown",
   "metadata": {},
   "source": [
    "### Can we pick the max reg date"
   ]
  },
  {
   "cell_type": "code",
   "execution_count": 133,
   "metadata": {},
   "outputs": [
    {
     "name": "stdout",
     "output_type": "stream",
     "text": [
      "co --> 76\n",
      "ct --> 6210\n",
      "fl --> 37776\n",
      "mi --> 72\n",
      "mn --> 1\n",
      "nj --> 26642\n",
      "ny --> 2\n",
      "or --> 22107\n",
      "tx --> 26321\n",
      "va --> 2\n",
      "vt --> 1\n",
      "wa --> 53431\n",
      "wi --> 3585\n"
     ]
    }
   ],
   "source": [
    "for state in unique_state_list:\n",
    "    try:\n",
    "        ## filter dataframe by state\n",
    "        df = reg_df[reg_df['state'] ==state]\n",
    "        ## get max reg date for each state\n",
    "        max_reg_date = df['Registration Valid Date'].max()\n",
    "        ## filter df to remove duplicates\n",
    "        temp_df = df[df['Registration Valid Date']>=max_reg_date]\n",
    "        print (state, \"-->\", temp_df.shape[0])\n",
    "    except:\n",
    "        print (\"Skipping..\", state)"
   ]
  },
  {
   "cell_type": "markdown",
   "metadata": {},
   "source": [
    "## Cleaning by States"
   ]
  },
  {
   "cell_type": "code",
   "execution_count": 320,
   "metadata": {},
   "outputs": [
    {
     "data": {
      "text/plain": [
       "['co', 'ct', 'fl', 'mi', 'mn', 'nj', 'ny', 'or', 'tx', 'va', 'vt', 'wa', 'wi']"
      ]
     },
     "execution_count": 320,
     "metadata": {},
     "output_type": "execute_result"
    }
   ],
   "source": [
    "unique_state_list"
   ]
  },
  {
   "cell_type": "markdown",
   "metadata": {},
   "source": [
    "Several states dont have data for 2019 and also beyond 2016. To maintain consistency, we will just take the data for 2017-18."
   ]
  },
  {
   "cell_type": "markdown",
   "metadata": {},
   "source": [
    "### Colorado"
   ]
  },
  {
   "cell_type": "code",
   "execution_count": 321,
   "metadata": {},
   "outputs": [
    {
     "data": {
      "text/plain": [
       "(22751, 13)"
      ]
     },
     "execution_count": 321,
     "metadata": {},
     "output_type": "execute_result"
    }
   ],
   "source": [
    "reg_df[reg_df['state']=='co'].shape"
   ]
  },
  {
   "cell_type": "code",
   "execution_count": 322,
   "metadata": {},
   "outputs": [
    {
     "data": {
      "text/plain": [
       "2019.0    14763\n",
       "2018.0     7986\n",
       "2016.0        2\n",
       "Name: Valid_year, dtype: int64"
      ]
     },
     "execution_count": 322,
     "metadata": {},
     "output_type": "execute_result"
    }
   ],
   "source": [
    "reg_df[reg_df['state']=='co']['Valid_year'].value_counts()"
   ]
  },
  {
   "cell_type": "code",
   "execution_count": 323,
   "metadata": {},
   "outputs": [],
   "source": [
    "col_df = reg_df[(reg_df['state']=='co') & (reg_df['Valid_year'].isin([2018]))]"
   ]
  },
  {
   "cell_type": "code",
   "execution_count": 324,
   "metadata": {},
   "outputs": [
    {
     "data": {
      "text/html": [
       "<div>\n",
       "<style scoped>\n",
       "    .dataframe tbody tr th:only-of-type {\n",
       "        vertical-align: middle;\n",
       "    }\n",
       "\n",
       "    .dataframe tbody tr th {\n",
       "        vertical-align: top;\n",
       "    }\n",
       "\n",
       "    .dataframe thead th {\n",
       "        text-align: right;\n",
       "    }\n",
       "</style>\n",
       "<table border=\"1\" class=\"dataframe\">\n",
       "  <thead>\n",
       "    <tr style=\"text-align: right;\">\n",
       "      <th></th>\n",
       "      <th>County</th>\n",
       "      <th>County GEOID</th>\n",
       "      <th>DMV ID</th>\n",
       "      <th>Registration Expiration Date</th>\n",
       "      <th>Registration Valid Date</th>\n",
       "      <th>VIN Model Year</th>\n",
       "      <th>VIN Prefix</th>\n",
       "      <th>Vehicle Name</th>\n",
       "      <th>ZIP Code</th>\n",
       "      <th>file_name</th>\n",
       "      <th>state</th>\n",
       "      <th>Exp_year</th>\n",
       "      <th>Valid_year</th>\n",
       "    </tr>\n",
       "  </thead>\n",
       "  <tbody>\n",
       "    <tr>\n",
       "      <th>14763</th>\n",
       "      <td>NaN</td>\n",
       "      <td>NaN</td>\n",
       "      <td>1</td>\n",
       "      <td>2019-12-31</td>\n",
       "      <td>2018-12-31</td>\n",
       "      <td>J</td>\n",
       "      <td>5YJSA1E2</td>\n",
       "      <td>NaN</td>\n",
       "      <td>80138</td>\n",
       "      <td>co_ev_registrations_public.xlsx</td>\n",
       "      <td>co</td>\n",
       "      <td>2019.0</td>\n",
       "      <td>2018.0</td>\n",
       "    </tr>\n",
       "    <tr>\n",
       "      <th>14764</th>\n",
       "      <td>NaN</td>\n",
       "      <td>NaN</td>\n",
       "      <td>1</td>\n",
       "      <td>2019-12-31</td>\n",
       "      <td>2018-12-31</td>\n",
       "      <td>J</td>\n",
       "      <td>5YJXCAE2</td>\n",
       "      <td>NaN</td>\n",
       "      <td>81620</td>\n",
       "      <td>co_ev_registrations_public.xlsx</td>\n",
       "      <td>co</td>\n",
       "      <td>2019.0</td>\n",
       "      <td>2018.0</td>\n",
       "    </tr>\n",
       "    <tr>\n",
       "      <th>14765</th>\n",
       "      <td>NaN</td>\n",
       "      <td>NaN</td>\n",
       "      <td>1</td>\n",
       "      <td>2019-12-31</td>\n",
       "      <td>2018-12-31</td>\n",
       "      <td>C</td>\n",
       "      <td>1G1RD6E4</td>\n",
       "      <td>NaN</td>\n",
       "      <td>80538</td>\n",
       "      <td>co_ev_registrations_public.xlsx</td>\n",
       "      <td>co</td>\n",
       "      <td>2019.0</td>\n",
       "      <td>2018.0</td>\n",
       "    </tr>\n",
       "    <tr>\n",
       "      <th>14766</th>\n",
       "      <td>NaN</td>\n",
       "      <td>NaN</td>\n",
       "      <td>1</td>\n",
       "      <td>2019-11-30</td>\n",
       "      <td>2018-12-31</td>\n",
       "      <td>G</td>\n",
       "      <td>WBY2Z2C5</td>\n",
       "      <td>NaN</td>\n",
       "      <td>80915</td>\n",
       "      <td>co_ev_registrations_public.xlsx</td>\n",
       "      <td>co</td>\n",
       "      <td>2019.0</td>\n",
       "      <td>2018.0</td>\n",
       "    </tr>\n",
       "    <tr>\n",
       "      <th>14767</th>\n",
       "      <td>NaN</td>\n",
       "      <td>NaN</td>\n",
       "      <td>1</td>\n",
       "      <td>2019-12-31</td>\n",
       "      <td>2018-12-31</td>\n",
       "      <td>F</td>\n",
       "      <td>5YJSA1S2</td>\n",
       "      <td>NaN</td>\n",
       "      <td>80228</td>\n",
       "      <td>co_ev_registrations_public.xlsx</td>\n",
       "      <td>co</td>\n",
       "      <td>2019.0</td>\n",
       "      <td>2018.0</td>\n",
       "    </tr>\n",
       "  </tbody>\n",
       "</table>\n",
       "</div>"
      ],
      "text/plain": [
       "      County  County GEOID  DMV ID Registration Expiration Date  \\\n",
       "14763    NaN           NaN       1                   2019-12-31   \n",
       "14764    NaN           NaN       1                   2019-12-31   \n",
       "14765    NaN           NaN       1                   2019-12-31   \n",
       "14766    NaN           NaN       1                   2019-11-30   \n",
       "14767    NaN           NaN       1                   2019-12-31   \n",
       "\n",
       "      Registration Valid Date VIN Model Year VIN Prefix Vehicle Name ZIP Code  \\\n",
       "14763              2018-12-31              J   5YJSA1E2          NaN    80138   \n",
       "14764              2018-12-31              J   5YJXCAE2          NaN    81620   \n",
       "14765              2018-12-31              C   1G1RD6E4          NaN    80538   \n",
       "14766              2018-12-31              G   WBY2Z2C5          NaN    80915   \n",
       "14767              2018-12-31              F   5YJSA1S2          NaN    80228   \n",
       "\n",
       "                             file_name state  Exp_year  Valid_year  \n",
       "14763  co_ev_registrations_public.xlsx    co    2019.0      2018.0  \n",
       "14764  co_ev_registrations_public.xlsx    co    2019.0      2018.0  \n",
       "14765  co_ev_registrations_public.xlsx    co    2019.0      2018.0  \n",
       "14766  co_ev_registrations_public.xlsx    co    2019.0      2018.0  \n",
       "14767  co_ev_registrations_public.xlsx    co    2019.0      2018.0  "
      ]
     },
     "execution_count": 324,
     "metadata": {},
     "output_type": "execute_result"
    }
   ],
   "source": [
    "col_df.head()\n"
   ]
  },
  {
   "cell_type": "code",
   "execution_count": 325,
   "metadata": {},
   "outputs": [
    {
     "data": {
      "text/plain": [
       "308"
      ]
     },
     "execution_count": 325,
     "metadata": {},
     "output_type": "execute_result"
    }
   ],
   "source": [
    "col_df['ZIP Code'].nunique()"
   ]
  },
  {
   "cell_type": "markdown",
   "metadata": {},
   "source": [
    "THis seems to match with the number in https://www.atlasevhub.com/materials/state-ev-registration-data/"
   ]
  },
  {
   "cell_type": "markdown",
   "metadata": {},
   "source": [
    "### Connecticut"
   ]
  },
  {
   "cell_type": "code",
   "execution_count": 326,
   "metadata": {},
   "outputs": [
    {
     "data": {
      "text/plain": [
       "(10569, 13)"
      ]
     },
     "execution_count": 326,
     "metadata": {},
     "output_type": "execute_result"
    }
   ],
   "source": [
    "reg_df[reg_df['state']=='ct'].shape"
   ]
  },
  {
   "cell_type": "code",
   "execution_count": 327,
   "metadata": {},
   "outputs": [
    {
     "data": {
      "text/plain": [
       "2018.0    6210\n",
       "2015.0    1970\n",
       "2016.0    1765\n",
       "2014.0     511\n",
       "2013.0      89\n",
       "2012.0      23\n",
       "2011.0       1\n",
       "Name: Valid_year, dtype: int64"
      ]
     },
     "execution_count": 327,
     "metadata": {},
     "output_type": "execute_result"
    }
   ],
   "source": [
    "reg_df[reg_df['state']=='ct']['Valid_year'].value_counts()"
   ]
  },
  {
   "cell_type": "code",
   "execution_count": 328,
   "metadata": {},
   "outputs": [],
   "source": [
    "con_df = reg_df[(reg_df['state']=='ct') & (reg_df['Valid_year'].isin([2018]))]"
   ]
  },
  {
   "cell_type": "code",
   "execution_count": 329,
   "metadata": {},
   "outputs": [
    {
     "data": {
      "text/html": [
       "<div>\n",
       "<style scoped>\n",
       "    .dataframe tbody tr th:only-of-type {\n",
       "        vertical-align: middle;\n",
       "    }\n",
       "\n",
       "    .dataframe tbody tr th {\n",
       "        vertical-align: top;\n",
       "    }\n",
       "\n",
       "    .dataframe thead th {\n",
       "        text-align: right;\n",
       "    }\n",
       "</style>\n",
       "<table border=\"1\" class=\"dataframe\">\n",
       "  <thead>\n",
       "    <tr style=\"text-align: right;\">\n",
       "      <th></th>\n",
       "      <th>County</th>\n",
       "      <th>County GEOID</th>\n",
       "      <th>DMV ID</th>\n",
       "      <th>Registration Expiration Date</th>\n",
       "      <th>Registration Valid Date</th>\n",
       "      <th>VIN Model Year</th>\n",
       "      <th>VIN Prefix</th>\n",
       "      <th>Vehicle Name</th>\n",
       "      <th>ZIP Code</th>\n",
       "      <th>file_name</th>\n",
       "      <th>state</th>\n",
       "      <th>Exp_year</th>\n",
       "      <th>Valid_year</th>\n",
       "    </tr>\n",
       "  </thead>\n",
       "  <tbody>\n",
       "    <tr>\n",
       "      <th>0</th>\n",
       "      <td>NaN</td>\n",
       "      <td>NaN</td>\n",
       "      <td>2</td>\n",
       "      <td>2018-12-31</td>\n",
       "      <td>2018-01-04</td>\n",
       "      <td>F</td>\n",
       "      <td>5YJSA1E2</td>\n",
       "      <td>NaN</td>\n",
       "      <td>6878</td>\n",
       "      <td>ct_ev_registrations.xlsx</td>\n",
       "      <td>ct</td>\n",
       "      <td>2018.0</td>\n",
       "      <td>2018.0</td>\n",
       "    </tr>\n",
       "    <tr>\n",
       "      <th>1</th>\n",
       "      <td>NaN</td>\n",
       "      <td>NaN</td>\n",
       "      <td>2</td>\n",
       "      <td>2018-12-31</td>\n",
       "      <td>2018-01-04</td>\n",
       "      <td>C</td>\n",
       "      <td>1G1RB6E4</td>\n",
       "      <td>NaN</td>\n",
       "      <td>6111</td>\n",
       "      <td>ct_ev_registrations.xlsx</td>\n",
       "      <td>ct</td>\n",
       "      <td>2018.0</td>\n",
       "      <td>2018.0</td>\n",
       "    </tr>\n",
       "    <tr>\n",
       "      <th>2</th>\n",
       "      <td>NaN</td>\n",
       "      <td>NaN</td>\n",
       "      <td>2</td>\n",
       "      <td>2018-12-31</td>\n",
       "      <td>2018-01-04</td>\n",
       "      <td>G</td>\n",
       "      <td>YV4BC0PL</td>\n",
       "      <td>NaN</td>\n",
       "      <td>6840</td>\n",
       "      <td>ct_ev_registrations.xlsx</td>\n",
       "      <td>ct</td>\n",
       "      <td>2018.0</td>\n",
       "      <td>2018.0</td>\n",
       "    </tr>\n",
       "    <tr>\n",
       "      <th>3</th>\n",
       "      <td>NaN</td>\n",
       "      <td>NaN</td>\n",
       "      <td>2</td>\n",
       "      <td>2018-12-31</td>\n",
       "      <td>2018-01-04</td>\n",
       "      <td>G</td>\n",
       "      <td>1G1RD6S5</td>\n",
       "      <td>NaN</td>\n",
       "      <td>6088</td>\n",
       "      <td>ct_ev_registrations.xlsx</td>\n",
       "      <td>ct</td>\n",
       "      <td>2018.0</td>\n",
       "      <td>2018.0</td>\n",
       "    </tr>\n",
       "    <tr>\n",
       "      <th>4</th>\n",
       "      <td>NaN</td>\n",
       "      <td>NaN</td>\n",
       "      <td>2</td>\n",
       "      <td>2018-12-31</td>\n",
       "      <td>2018-01-04</td>\n",
       "      <td>F</td>\n",
       "      <td>1FADP5CU</td>\n",
       "      <td>NaN</td>\n",
       "      <td>60422</td>\n",
       "      <td>ct_ev_registrations.xlsx</td>\n",
       "      <td>ct</td>\n",
       "      <td>2018.0</td>\n",
       "      <td>2018.0</td>\n",
       "    </tr>\n",
       "  </tbody>\n",
       "</table>\n",
       "</div>"
      ],
      "text/plain": [
       "  County  County GEOID  DMV ID Registration Expiration Date  \\\n",
       "0    NaN           NaN       2                   2018-12-31   \n",
       "1    NaN           NaN       2                   2018-12-31   \n",
       "2    NaN           NaN       2                   2018-12-31   \n",
       "3    NaN           NaN       2                   2018-12-31   \n",
       "4    NaN           NaN       2                   2018-12-31   \n",
       "\n",
       "  Registration Valid Date VIN Model Year VIN Prefix Vehicle Name ZIP Code  \\\n",
       "0              2018-01-04              F   5YJSA1E2          NaN     6878   \n",
       "1              2018-01-04              C   1G1RB6E4          NaN     6111   \n",
       "2              2018-01-04              G   YV4BC0PL          NaN     6840   \n",
       "3              2018-01-04              G   1G1RD6S5          NaN     6088   \n",
       "4              2018-01-04              F   1FADP5CU          NaN    60422   \n",
       "\n",
       "                  file_name state  Exp_year  Valid_year  \n",
       "0  ct_ev_registrations.xlsx    ct    2018.0      2018.0  \n",
       "1  ct_ev_registrations.xlsx    ct    2018.0      2018.0  \n",
       "2  ct_ev_registrations.xlsx    ct    2018.0      2018.0  \n",
       "3  ct_ev_registrations.xlsx    ct    2018.0      2018.0  \n",
       "4  ct_ev_registrations.xlsx    ct    2018.0      2018.0  "
      ]
     },
     "execution_count": 329,
     "metadata": {},
     "output_type": "execute_result"
    }
   ],
   "source": [
    "con_df.head()"
   ]
  },
  {
   "cell_type": "code",
   "execution_count": 330,
   "metadata": {},
   "outputs": [
    {
     "data": {
      "text/plain": [
       "842"
      ]
     },
     "execution_count": 330,
     "metadata": {},
     "output_type": "execute_result"
    }
   ],
   "source": [
    "con_df['ZIP Code'].nunique()"
   ]
  },
  {
   "cell_type": "markdown",
   "metadata": {},
   "source": [
    "### Michigan"
   ]
  },
  {
   "cell_type": "code",
   "execution_count": 331,
   "metadata": {},
   "outputs": [
    {
     "data": {
      "text/plain": [
       "(27518, 13)"
      ]
     },
     "execution_count": 331,
     "metadata": {},
     "output_type": "execute_result"
    }
   ],
   "source": [
    "reg_df[reg_df['state']=='mi'].shape"
   ]
  },
  {
   "cell_type": "code",
   "execution_count": 332,
   "metadata": {},
   "outputs": [
    {
     "data": {
      "text/plain": [
       "2019.0    10779\n",
       "2017.0     7992\n",
       "2018.0     7048\n",
       "2016.0      751\n",
       "2015.0      554\n",
       "2014.0      391\n",
       "2013.0        3\n",
       "Name: Valid_year, dtype: int64"
      ]
     },
     "execution_count": 332,
     "metadata": {},
     "output_type": "execute_result"
    }
   ],
   "source": [
    "reg_df[reg_df['state']=='mi']['Valid_year'].value_counts()"
   ]
  },
  {
   "cell_type": "code",
   "execution_count": 333,
   "metadata": {},
   "outputs": [],
   "source": [
    "mi_df = reg_df[(reg_df['state']=='mi') & (reg_df['Valid_year'].isin([2018]))]"
   ]
  },
  {
   "cell_type": "code",
   "execution_count": 334,
   "metadata": {},
   "outputs": [
    {
     "data": {
      "text/plain": [
       "(7048, 13)"
      ]
     },
     "execution_count": 334,
     "metadata": {},
     "output_type": "execute_result"
    }
   ],
   "source": [
    "mi_df.shape"
   ]
  },
  {
   "cell_type": "code",
   "execution_count": 335,
   "metadata": {},
   "outputs": [
    {
     "data": {
      "text/plain": [
       "690"
      ]
     },
     "execution_count": 335,
     "metadata": {},
     "output_type": "execute_result"
    }
   ],
   "source": [
    "mi_df['ZIP Code'].nunique()"
   ]
  },
  {
   "cell_type": "markdown",
   "metadata": {},
   "source": [
    "### Minnesota"
   ]
  },
  {
   "cell_type": "code",
   "execution_count": 336,
   "metadata": {},
   "outputs": [
    {
     "data": {
      "text/plain": [
       "(16177, 13)"
      ]
     },
     "execution_count": 336,
     "metadata": {},
     "output_type": "execute_result"
    }
   ],
   "source": [
    "reg_df[reg_df['state']=='mn'].shape"
   ]
  },
  {
   "cell_type": "code",
   "execution_count": 337,
   "metadata": {},
   "outputs": [
    {
     "data": {
      "text/plain": [
       "2018.0    12946\n",
       "2019.0     3141\n",
       "2017.0       38\n",
       "2016.0       12\n",
       "2008.0       10\n",
       "2012.0        8\n",
       "2013.0        7\n",
       "2015.0        4\n",
       "2011.0        4\n",
       "2009.0        3\n",
       "2014.0        1\n",
       "Name: Valid_year, dtype: int64"
      ]
     },
     "execution_count": 337,
     "metadata": {},
     "output_type": "execute_result"
    }
   ],
   "source": [
    "reg_df[reg_df['state']=='mn']['Valid_year'].value_counts()"
   ]
  },
  {
   "cell_type": "code",
   "execution_count": 338,
   "metadata": {},
   "outputs": [],
   "source": [
    "mn_df = reg_df[(reg_df['state']=='mn') & (reg_df['Valid_year'].isin([2018]))]"
   ]
  },
  {
   "cell_type": "code",
   "execution_count": 339,
   "metadata": {},
   "outputs": [
    {
     "data": {
      "text/plain": [
       "(12946, 13)"
      ]
     },
     "execution_count": 339,
     "metadata": {},
     "output_type": "execute_result"
    }
   ],
   "source": [
    "mn_df.shape"
   ]
  },
  {
   "cell_type": "code",
   "execution_count": 340,
   "metadata": {},
   "outputs": [
    {
     "data": {
      "text/plain": [
       "505"
      ]
     },
     "execution_count": 340,
     "metadata": {},
     "output_type": "execute_result"
    }
   ],
   "source": [
    "mn_df['ZIP Code'].nunique()"
   ]
  },
  {
   "cell_type": "markdown",
   "metadata": {},
   "source": [
    "### New Jersey"
   ]
  },
  {
   "cell_type": "code",
   "execution_count": 341,
   "metadata": {},
   "outputs": [
    {
     "data": {
      "text/plain": [
       "(91143, 13)"
      ]
     },
     "execution_count": 341,
     "metadata": {},
     "output_type": "execute_result"
    }
   ],
   "source": [
    "reg_df[reg_df['state']=='nj'].shape"
   ]
  },
  {
   "cell_type": "code",
   "execution_count": 342,
   "metadata": {},
   "outputs": [
    {
     "data": {
      "text/plain": [
       "2018.0    40498\n",
       "2019.0    26642\n",
       "2017.0    24003\n",
       "Name: Valid_year, dtype: int64"
      ]
     },
     "execution_count": 342,
     "metadata": {},
     "output_type": "execute_result"
    }
   ],
   "source": [
    "reg_df[reg_df['state']=='nj']['Valid_year'].value_counts()"
   ]
  },
  {
   "cell_type": "markdown",
   "metadata": {},
   "source": [
    "Seems to be duplicates.. ignoring NJ"
   ]
  },
  {
   "cell_type": "markdown",
   "metadata": {},
   "source": [
    "### New York"
   ]
  },
  {
   "cell_type": "code",
   "execution_count": 343,
   "metadata": {},
   "outputs": [
    {
     "data": {
      "text/plain": [
       "(956830, 13)"
      ]
     },
     "execution_count": 343,
     "metadata": {},
     "output_type": "execute_result"
    }
   ],
   "source": [
    "reg_df[reg_df['state']=='ny'].shape"
   ]
  },
  {
   "cell_type": "code",
   "execution_count": 344,
   "metadata": {},
   "outputs": [
    {
     "data": {
      "text/plain": [
       "2018.0    366119\n",
       "2017.0    257046\n",
       "2019.0    141127\n",
       "2016.0     93205\n",
       "2015.0     40830\n",
       "2014.0     36996\n",
       "2013.0     10798\n",
       "2012.0      8357\n",
       "2011.0      2352\n",
       "Name: Valid_year, dtype: int64"
      ]
     },
     "execution_count": 344,
     "metadata": {},
     "output_type": "execute_result"
    }
   ],
   "source": [
    "reg_df[reg_df['state']=='ny']['Valid_year'].value_counts()"
   ]
  },
  {
   "cell_type": "markdown",
   "metadata": {},
   "source": [
    "Duplicates.. excluding this as well"
   ]
  },
  {
   "cell_type": "markdown",
   "metadata": {},
   "source": [
    "### Washington"
   ]
  },
  {
   "cell_type": "code",
   "execution_count": 345,
   "metadata": {},
   "outputs": [
    {
     "data": {
      "text/plain": [
       "(429192, 13)"
      ]
     },
     "execution_count": 345,
     "metadata": {},
     "output_type": "execute_result"
    }
   ],
   "source": [
    "reg_df[reg_df['state']=='wa'].shape"
   ]
  },
  {
   "cell_type": "code",
   "execution_count": 346,
   "metadata": {},
   "outputs": [
    {
     "data": {
      "text/plain": [
       "2019.0    299839\n",
       "2018.0     40416\n",
       "2017.0     28300\n",
       "2016.0     20970\n",
       "2015.0     15891\n",
       "2014.0     11934\n",
       "2013.0      7619\n",
       "2012.0      2948\n",
       "2011.0      1225\n",
       "2010.0        50\n",
       "Name: Valid_year, dtype: int64"
      ]
     },
     "execution_count": 346,
     "metadata": {},
     "output_type": "execute_result"
    }
   ],
   "source": [
    "reg_df[reg_df['state']=='wa']['Valid_year'].value_counts()"
   ]
  },
  {
   "cell_type": "code",
   "execution_count": 347,
   "metadata": {},
   "outputs": [],
   "source": [
    "wa_df = reg_df[(reg_df['state']=='wa') & (reg_df['Valid_year'].isin([2018]))]"
   ]
  },
  {
   "cell_type": "markdown",
   "metadata": {},
   "source": [
    "### Texas"
   ]
  },
  {
   "cell_type": "code",
   "execution_count": 349,
   "metadata": {},
   "outputs": [
    {
     "data": {
      "text/plain": [
       "(74143, 13)"
      ]
     },
     "execution_count": 349,
     "metadata": {},
     "output_type": "execute_result"
    }
   ],
   "source": [
    "reg_df[reg_df['state']=='tx'].shape"
   ]
  },
  {
   "cell_type": "code",
   "execution_count": 350,
   "metadata": {},
   "outputs": [
    {
     "data": {
      "text/plain": [
       "2019.0    74143\n",
       "Name: Valid_year, dtype: int64"
      ]
     },
     "execution_count": 350,
     "metadata": {},
     "output_type": "execute_result"
    }
   ],
   "source": [
    "reg_df[reg_df['state']=='tx']['Valid_year'].value_counts()"
   ]
  },
  {
   "cell_type": "code",
   "execution_count": 351,
   "metadata": {},
   "outputs": [],
   "source": [
    "tx_df = reg_df[(reg_df['state']=='mn') & (reg_df['Valid_year'].isin([2019]))]"
   ]
  },
  {
   "cell_type": "markdown",
   "metadata": {},
   "source": [
    "Since Texas doesnt have 2017-18 data.. taking 2019(Should we?)"
   ]
  },
  {
   "cell_type": "markdown",
   "metadata": {},
   "source": [
    "### Oregon"
   ]
  },
  {
   "cell_type": "code",
   "execution_count": 355,
   "metadata": {},
   "outputs": [
    {
     "data": {
      "text/plain": [
       "(76342, 13)"
      ]
     },
     "execution_count": 355,
     "metadata": {},
     "output_type": "execute_result"
    }
   ],
   "source": [
    "reg_df[reg_df['state']=='or'].shape"
   ]
  },
  {
   "cell_type": "code",
   "execution_count": 356,
   "metadata": {},
   "outputs": [
    {
     "data": {
      "text/plain": [
       "2018.0    23312\n",
       "2017.0    18444\n",
       "2016.0    13445\n",
       "2015.0     8929\n",
       "2014.0     6128\n",
       "2013.0     3847\n",
       "2012.0     1665\n",
       "2011.0      572\n",
       "Name: Valid_year, dtype: int64"
      ]
     },
     "execution_count": 356,
     "metadata": {},
     "output_type": "execute_result"
    }
   ],
   "source": [
    "reg_df[reg_df['state']=='or']['Valid_year'].value_counts()"
   ]
  },
  {
   "cell_type": "code",
   "execution_count": 357,
   "metadata": {},
   "outputs": [],
   "source": [
    "or_df = reg_df[(reg_df['state']=='or') & (reg_df['Valid_year'].isin([2018]))]"
   ]
  },
  {
   "cell_type": "code",
   "execution_count": 358,
   "metadata": {},
   "outputs": [
    {
     "data": {
      "text/plain": [
       "(23312, 13)"
      ]
     },
     "execution_count": 358,
     "metadata": {},
     "output_type": "execute_result"
    }
   ],
   "source": [
    "or_df.shape"
   ]
  },
  {
   "cell_type": "markdown",
   "metadata": {},
   "source": [
    "### Virginia"
   ]
  },
  {
   "cell_type": "code",
   "execution_count": 359,
   "metadata": {},
   "outputs": [
    {
     "data": {
      "text/plain": [
       "(28039, 13)"
      ]
     },
     "execution_count": 359,
     "metadata": {},
     "output_type": "execute_result"
    }
   ],
   "source": [
    "reg_df[reg_df['state']=='va'].shape"
   ]
  },
  {
   "cell_type": "code",
   "execution_count": 360,
   "metadata": {},
   "outputs": [
    {
     "data": {
      "text/plain": [
       "2018.0    13611\n",
       "2017.0    11458\n",
       "2016.0     2548\n",
       "2015.0      283\n",
       "2014.0       25\n",
       "2013.0       23\n",
       "2011.0       21\n",
       "2012.0       16\n",
       "2006.0       14\n",
       "2009.0       14\n",
       "2007.0        8\n",
       "2010.0        6\n",
       "2002.0        4\n",
       "2005.0        2\n",
       "2004.0        2\n",
       "2003.0        2\n",
       "2019.0        2\n",
       "Name: Valid_year, dtype: int64"
      ]
     },
     "execution_count": 360,
     "metadata": {},
     "output_type": "execute_result"
    }
   ],
   "source": [
    "reg_df[reg_df['state']=='va']['Valid_year'].value_counts()"
   ]
  },
  {
   "cell_type": "code",
   "execution_count": 361,
   "metadata": {},
   "outputs": [],
   "source": [
    "va_df = reg_df[(reg_df['state']=='va') & (reg_df['Valid_year'].isin([2018]))]"
   ]
  },
  {
   "cell_type": "markdown",
   "metadata": {},
   "source": [
    "### Vermont"
   ]
  },
  {
   "cell_type": "code",
   "execution_count": 362,
   "metadata": {},
   "outputs": [
    {
     "data": {
      "text/plain": [
       "(6196, 13)"
      ]
     },
     "execution_count": 362,
     "metadata": {},
     "output_type": "execute_result"
    }
   ],
   "source": [
    "reg_df[reg_df['state']=='vt'].shape"
   ]
  },
  {
   "cell_type": "code",
   "execution_count": 363,
   "metadata": {},
   "outputs": [
    {
     "data": {
      "text/plain": [
       "2017.0    2060\n",
       "2018.0    1974\n",
       "2016.0    1104\n",
       "2015.0     401\n",
       "2013.0     187\n",
       "2014.0     160\n",
       "2019.0     116\n",
       "2012.0     104\n",
       "2003.0      44\n",
       "2011.0      20\n",
       "2008.0      10\n",
       "2007.0       6\n",
       "2009.0       4\n",
       "2010.0       2\n",
       "2006.0       2\n",
       "2005.0       2\n",
       "Name: Valid_year, dtype: int64"
      ]
     },
     "execution_count": 363,
     "metadata": {},
     "output_type": "execute_result"
    }
   ],
   "source": [
    "reg_df[reg_df['state']=='vt']['Valid_year'].value_counts()"
   ]
  },
  {
   "cell_type": "code",
   "execution_count": 364,
   "metadata": {},
   "outputs": [],
   "source": [
    "vt_df = reg_df[(reg_df['state']=='vt') & (reg_df['Valid_year'].isin([2018]))]"
   ]
  },
  {
   "cell_type": "markdown",
   "metadata": {},
   "source": [
    "## Finalizing.."
   ]
  },
  {
   "cell_type": "markdown",
   "metadata": {},
   "source": [
    "### Combining all cleaned data"
   ]
  },
  {
   "cell_type": "code",
   "execution_count": 365,
   "metadata": {},
   "outputs": [],
   "source": [
    "df = pd.concat([col_df,con_df,mi_df,mn_df,wa_df,or_df,va_df,vt_df])"
   ]
  },
  {
   "cell_type": "code",
   "execution_count": 366,
   "metadata": {},
   "outputs": [
    {
     "data": {
      "text/plain": [
       "(113503, 13)"
      ]
     },
     "execution_count": 366,
     "metadata": {},
     "output_type": "execute_result"
    }
   ],
   "source": [
    "df.shape"
   ]
  },
  {
   "cell_type": "markdown",
   "metadata": {},
   "source": [
    "### Checking consistencies"
   ]
  },
  {
   "cell_type": "code",
   "execution_count": 367,
   "metadata": {},
   "outputs": [],
   "source": [
    "df = df[df['ZIP Code'].isnull()!=True] ## Removed rows with NULL ZIP Codes"
   ]
  },
  {
   "cell_type": "code",
   "execution_count": 368,
   "metadata": {},
   "outputs": [
    {
     "data": {
      "text/plain": [
       "(99878, 13)"
      ]
     },
     "execution_count": 368,
     "metadata": {},
     "output_type": "execute_result"
    }
   ],
   "source": [
    "df.shape"
   ]
  },
  {
   "cell_type": "code",
   "execution_count": 377,
   "metadata": {},
   "outputs": [],
   "source": [
    "df.to_csv('data/ev_data.csv')"
   ]
  },
  {
   "cell_type": "code",
   "execution_count": 376,
   "metadata": {},
   "outputs": [
    {
     "data": {
      "text/plain": [
       "2018.0    99878\n",
       "Name: Valid_year, dtype: int64"
      ]
     },
     "execution_count": 376,
     "metadata": {},
     "output_type": "execute_result"
    }
   ],
   "source": [
    "df['Valid_year'].value_counts()"
   ]
  },
  {
   "cell_type": "code",
   "execution_count": 375,
   "metadata": {},
   "outputs": [
    {
     "data": {
      "text/plain": [
       "state\n",
       "co     7986\n",
       "ct     6210\n",
       "mi     7048\n",
       "mn    12932\n",
       "or    23312\n",
       "vt     1974\n",
       "wa    40416\n",
       "Name: Valid_year, dtype: int64"
      ]
     },
     "execution_count": 375,
     "metadata": {},
     "output_type": "execute_result"
    }
   ],
   "source": [
    "df.groupby(['state'])['Valid_year'].count()"
   ]
  },
  {
   "cell_type": "code",
   "execution_count": null,
   "metadata": {},
   "outputs": [],
   "source": []
  }
 ],
 "metadata": {
  "kernelspec": {
   "display_name": "Python 3",
   "language": "python",
   "name": "python3"
  },
  "language_info": {
   "codemirror_mode": {
    "name": "ipython",
    "version": 3
   },
   "file_extension": ".py",
   "mimetype": "text/x-python",
   "name": "python",
   "nbconvert_exporter": "python",
   "pygments_lexer": "ipython3",
   "version": "3.7.1"
  },
  "toc": {
   "base_numbering": 1,
   "nav_menu": {},
   "number_sections": true,
   "sideBar": true,
   "skip_h1_title": false,
   "title_cell": "Table of Contents",
   "title_sidebar": "Contents",
   "toc_cell": false,
   "toc_position": {},
   "toc_section_display": true,
   "toc_window_display": true
  }
 },
 "nbformat": 4,
 "nbformat_minor": 2
}
